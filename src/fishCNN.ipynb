{
 "cells": [
  {
   "cell_type": "code",
   "execution_count": 1,
   "metadata": {},
   "outputs": [],
   "source": [
    "import numpy as np\n",
    "import matplotlib.pyplot as plt\n",
    "%matplotlib inline"
   ]
  },
  {
   "cell_type": "code",
   "execution_count": 2,
   "metadata": {},
   "outputs": [],
   "source": [
    "from collections import OrderedDict"
   ]
  },
  {
   "cell_type": "code",
   "execution_count": 3,
   "metadata": {},
   "outputs": [],
   "source": [
    "from read_mnist import load_mnist"
   ]
  },
  {
   "cell_type": "markdown",
   "metadata": {},
   "source": [
    "### CNN\n",
    "- 卷积层、池化层的实现"
   ]
  },
  {
   "cell_type": "code",
   "execution_count": 4,
   "metadata": {},
   "outputs": [],
   "source": [
    "def img2col(x, stride, padding, kernel_h, kernel_w):\n",
    "    \"\"\"\n",
    "    :type x: (N, Channels, H, W),其中N表示batch大小，\n",
    "    Channels表示通道数，W表示二维数组表示的图像的宽，\n",
    "    H表示高\n",
    "    :type stride: int, 步长\n",
    "    :type kernel_h: int, 卷积核的高\n",
    "    :type kernel_w: int, 卷积核的宽\n",
    "    \"\"\"\n",
    "\n",
    "    N, C, H, W = x.shape\n",
    "#     if padding != 0:\n",
    "#         cols_add = np.zeros((x.shape[0], x.shape[1], x.shape[2], padding))\n",
    "#         rows_add = np.zeros((x.shape[0], x.shape[1], padding, x.shape[3] + 2 * padding))\n",
    "\n",
    "#         x = np.concatenate((cols_add, x, cols_add), axis=3)  # 扩充列\n",
    "#         x = np.concatenate((rows_add, x, rows_add), axis=2)  # 扩充行\n",
    "    if padding != 0:\n",
    "        x = np.pad(x, [(0,0),(0,0),(padding, padding),(padding, padding)], 'constant') # 填充函数\n",
    "\n",
    "    new_H = int((H + 2 * padding - kernel_h) / stride + 1)  # 向上取整\n",
    "    new_W = int((W + 2 * padding - kernel_w) / stride + 1)  # 向上取整\n",
    "\n",
    "#     new_x = np.zeros((N, new_H*new_W, C*kernel_h*kernel_w))\n",
    "#     for i in range(N):\n",
    "#         for j in range(new_H*new_W):\n",
    "#             for v in range(C):\n",
    "#                 for u in range(0, H - kernel_h + 1):\n",
    "#                     for z in range(0, W - kernel_w + 1):\n",
    "#                         new_x[i][j][v * (kernel_h*kernel_w):(v+1)*(kernel_h*kernel_w)] = \\\n",
    "#                             x[i][v][u:u+kernel_h, z:z+kernel_w].reshape(1, -1)\n",
    "\n",
    "    new_x = np.zeros((N, C, kernel_h, kernel_w, new_H, new_W))\n",
    "    for i in range(kernel_h):\n",
    "        i_max = i + stride * new_H\n",
    "        for j in range(kernel_w):\n",
    "            j_max = j + stride * new_W\n",
    "            new_x[:, :, i, j, :, :] = x[:, :, i:i_max:stride, j:j_max:stride]\n",
    "\n",
    "    return new_x.transpose(0, 4, 5, 1, 2, 3).reshape(N * new_H * new_W, -1)\n",
    "\n",
    "def col2img(col, input_shape, kernel_h, kernel_w, stride=1, padding=0):\n",
    "    N, C, H, W = input_shape\n",
    "    out_h = int((H + 2 * padding - kernel_h) / stride) + 1\n",
    "    out_w = int((W + 2 * padding - kernel_w) / stride) + 1\n",
    "    col = col.reshape(N, out_h, out_w, C, kernel_h, kernel_w).transpose(0, 3, 4, 5, 1, 2)\n",
    "\n",
    "    img = np.zeros((N, C, H + 2 * padding + stride - 1, W + 2 * padding + stride - 1))\n",
    "    for y in range(kernel_h):\n",
    "        y_max = y + stride * out_h\n",
    "        for x in range(kernel_w):\n",
    "            x_max = x + stride * out_w\n",
    "            img[:, :, y:y_max:stride, x:x_max:stride] += col[:, :, y, x, :, :]\n",
    "\n",
    "    return img[:, :, padding:H + padding, padding:W + padding]"
   ]
  },
  {
   "cell_type": "code",
   "execution_count": 5,
   "metadata": {},
   "outputs": [],
   "source": [
    "class Conv(object):\n",
    "    def __init__(self, W, b, stride=1, padding=0):\n",
    "        \"\"\"\n",
    "        :type W: (,Channels, H, W), Channels表示通道数，\n",
    "        也是传向下一层的数据通道数，W表示二维数组表示\n",
    "        的滤波器的宽，H表示高\n",
    "        :type b: (Channels, ),每一通道上的偏置\n",
    "        :type stride: 步长，默认在长、宽两个方向是相同的\n",
    "        :type padding: [True, False],是否补全，若是，则补全使保证卷积前后\n",
    "        数据W、H大小不变，否则不补全\n",
    "        \"\"\"\n",
    "        self.W = W\n",
    "        self.b = b\n",
    "        self.stride = stride\n",
    "        self.padding = padding\n",
    "        self.dW = None\n",
    "        self.db = None\n",
    "\n",
    "    def forward(self, x):\n",
    "        \"\"\"\n",
    "        :type x: (N, Channels, H, W),其中N表示batch大小，\n",
    "        Channels表示通道数，W表示二维数组表示的图像的宽，\n",
    "        H表示高\n",
    "        \"\"\"\n",
    "        N, C, H, W = x.shape\n",
    "        WN, WC, WH, WW = self.W.shape\n",
    "\n",
    "        new_H = int((H + 2*self.padding - WH)/self.stride) + 1  # 向上取整\n",
    "        new_W = int((W + 2*self.padding - WW)/self.stride) + 1  # 向上取整\n",
    "\n",
    "        extend_x = img2col(x, self.stride, self.padding, WH, WW)\n",
    "        expend_W = self.W.reshape(WN, -1).T\n",
    "        extend_y = np.dot(extend_x, expend_W) + self.b\n",
    "        y = extend_y.reshape(N, new_H, new_W, -1).transpose(0, 3, 1, 2)  # 调整轴顺序，重新变形\n",
    "        return y\n",
    "\n",
    "    def backward(self, dout):\n",
    "        WN, WC, WH, WW = self.W.shape\n",
    "        dout = dout.transpose(0, 2, 3, 1).reshape(-1, WN)\n",
    "\n",
    "        self.db = np.sum(dout, axis=0)\n",
    "        self.dW = np.dot(self.extend_x.T, dout)\n",
    "        self.dW = self.dW.transpose(WN, WC, WH, WW)\n",
    "\n",
    "        dextend_x = np.dot(dout, self.extend_W.T)\n",
    "        dx = col2img(dextend_x, self.x.shape, WH, WW, self.stride, self.padding)\n",
    "        return  dx"
   ]
  },
  {
   "cell_type": "markdown",
   "metadata": {},
   "source": [
    "### 测试img2col函数"
   ]
  },
  {
   "cell_type": "code",
   "execution_count": 6,
   "metadata": {},
   "outputs": [
    {
     "name": "stdout",
     "output_type": "stream",
     "text": [
      "(10, 20, 3, 3)\n"
     ]
    }
   ],
   "source": [
    "x = np.ones((10, 3, 5, 5))\n",
    "c = Conv(W=np.ones((20, 3, 3, 3)), b=-np.ones((20,)), stride=1, padding=0)\n",
    "res_x = c.forward(x)\n",
    "print res_x.shape"
   ]
  },
  {
   "cell_type": "code",
   "execution_count": 7,
   "metadata": {},
   "outputs": [],
   "source": [
    "class Pooling(object):\n",
    "    def __init__(self, kernel_h, kernel_w, stride=1, padding=0):\n",
    "        self.kernel_h = kernel_h\n",
    "        self.kernel_w = kernel_w\n",
    "        self.stride = stride\n",
    "        self.padding = padding\n",
    "        \n",
    "        self.x = None\n",
    "        self.arg_max = None\n",
    "    # 默认实现MaxPooling函数\n",
    "    def forward(self, x):  \n",
    "        N, C, H, W = x.shape\n",
    "        \n",
    "        new_H = int((H + 2*self.padding - self.kernel_h)/self.stride) + 1  # 向上取整\n",
    "        new_W = int((W + 2*self.padding - self.kernel_w)/self.stride) + 1  # 向上取整\n",
    "        \n",
    "        extend_x = img2col(x, self.stride, self.padding, self.kernel_h, self.kernel_w)\n",
    "        extend_x = extend_x.reshape(-1, self.kernel_h*self.kernel_w)\n",
    "        \n",
    "        arg_max = np.argmax(extend_x, axis=1) \n",
    "        y = np.max(extend_x, axis=1)\n",
    "        y = y.reshape(N, C, new_H, new_W)\n",
    "        \n",
    "        self.x = x\n",
    "        self.arg_max = arg_max  # 记录中间结果，在backward时方便还原哪个位置有梯度传递，哪个位置没有梯度传播\n",
    "        return y\n",
    "    def backward(self, dout):\n",
    "        dout = dout.transpose(0, 2, 3, 1)\n",
    "        \n",
    "        pool_size = self.kernel_h * self.kernel_w\n",
    "        \n",
    "        dmax = np.zeros((dout.size, pool_size))\n",
    "        dmax[np.arange(self.arg_max.size), self.arg_max.flatten()] = dout.flatten()\n",
    "        dmax = dmax.reshape(dout.shape + (pool_size, ))\n",
    "        \n",
    "        \n",
    "        # 最后一步还原为input的形状\n",
    "        dcol = dmax.reshape(dmax.shape[0] * dmax.shape[1] * dmax.shape[2], -1)\n",
    "        dx = col2img(dcol, self.x.shape, self.kernel_h, self.kernel_w, self.stride, self.padding)\n",
    "        \n",
    "        return dx"
   ]
  },
  {
   "cell_type": "code",
   "execution_count": 8,
   "metadata": {},
   "outputs": [
    {
     "name": "stdout",
     "output_type": "stream",
     "text": [
      "(10, 3, 2, 2)\n"
     ]
    }
   ],
   "source": [
    "pool = Pooling(kernel_h=3, kernel_w=3, stride=2)\n",
    "res_px = pool.forward(x)\n",
    "print res_px.shape"
   ]
  },
  {
   "cell_type": "code",
   "execution_count": 12,
   "metadata": {},
   "outputs": [
    {
     "data": {
      "text/plain": [
       "(10, 3, 3, 3, 9)"
      ]
     },
     "execution_count": 12,
     "metadata": {},
     "output_type": "execute_result"
    }
   ],
   "source": [
    "a = (10, 3, 3, 3)\n",
    "a + (9, )"
   ]
  },
  {
   "cell_type": "code",
   "execution_count": 22,
   "metadata": {},
   "outputs": [],
   "source": [
    "class Activation_func(object):\n",
    "    def __init__(self):\n",
    "        pass\n",
    "class ReLu(Activation_func):\n",
    "    def __init__(self):\n",
    "        self.mask = None\n",
    "    def forward(self, x):\n",
    "        self.mask = (x <= 0)\n",
    "        x_copy = x.copy()\n",
    "        x_copy[self.mask] = 0\n",
    "        return x_copy\n",
    "    \n",
    "    def backward(self, dout):\n",
    "        dout[self.mask] = 0\n",
    "        dx = dout\n",
    "        return dx\n",
    "\n",
    "class Affine(object):\n",
    "    def __init__(self, W, b, lam=0.01):\n",
    "        self.W = W\n",
    "        self.b = b\n",
    "        self.dW = None\n",
    "        self.db = None\n",
    "        self.lam = lam\n",
    "        self.x = None\n",
    "    def forward(self, x):\n",
    "        self.x = x\n",
    "        return np.dot(x, self.W) + self.b\n",
    "    \n",
    "    def backward(self, dout):\n",
    "        dx = np.dot(dout, self.W.T)\n",
    "        self.dW = np.dot(self.x.T, dout) + self.lam * self.W # 损失函数添加权重衰减项之后的导数 \n",
    "        self.db = np.sum(dout, axis=0)\n",
    "        return dx\n",
    "\n",
    "class softmax_cross_entropy(object):\n",
    "    def __init__(self, y):\n",
    "        self.out = None\n",
    "        self.y = y\n",
    "    def forward(self, x):\n",
    "        exp_x = np.exp(x - np.max(x, axis=1).reshape(-1, 1))\n",
    "        sum_x = np.sum(exp_x, axis=1)\n",
    "        out = exp_x / sum_x.reshape(-1, 1)\n",
    "        self.out = out\n",
    "        return -np.sum(self.y*np.log(self.out + 1e-7)) / self.out.shape[0]\n",
    "    def backward(self, dout):\n",
    "        return dout * (self.out - self.y)"
   ]
  },
  {
   "cell_type": "markdown",
   "metadata": {},
   "source": [
    "### 使用卷积层、池化层、全连接层、等构建并训练一个CNN "
   ]
  },
  {
   "cell_type": "code",
   "execution_count": 30,
   "metadata": {},
   "outputs": [],
   "source": [
    "class SimpleConvNet(object):\n",
    "    def __init__(self, input_dim=(1, 28, 28), conv_param={'filter_num':30, 'filter_size':5, \n",
    "                                                          'stride':1, 'pad':0},hidden_size=100, \n",
    "                 output_size=10, weight_init_std = 0.01):\n",
    "        filter_num = conv_param['filter_num']\n",
    "        filter_size =conv_param['filter_size']\n",
    "        filter_stride = conv_param['stride']\n",
    "        filter_pad = conv_param['pad']\n",
    "        \n",
    "        input_size = input_dim[1]\n",
    "        conv_output_size = (input_size - filter_size + 2*filter_pad) / filter_stride + 1\n",
    "        pool_output_size = int(filter_num *(conv_output_size/2)*(conv_output_size/2))\n",
    "        \n",
    "        self.params = {}\n",
    "        self.params['W1'] = weight_init_std * np.random.randn(filter_num, input_dim[0], \n",
    "                                                              filter_size, filter_size)\n",
    "        self.params['b1'] = np.zeros(filter_num)\n",
    "        \n",
    "        self.params['W2'] = weight_init_std * np.random.randn(pool_output_size, hidden_size)\n",
    "        self.params['b2'] = np.zeros(hidden_size)\n",
    "        \n",
    "        self.params['W3'] = weight_init_std * np.random.randn(hidden_size, output_size)\n",
    "        self.params['b3'] = np.zeros(output_size)\n",
    "        \n",
    "        self.layers = OrderedDict()\n",
    "        self.layers['Conv1'] = Conv(self.params['W1'], self.params['b1'], filter_stride, filter_pad)\n",
    "        self.layers['Activation1'] = ReLu()\n",
    "        \n",
    "        self.layers['Pooling'] = Pooling(kernel_h=2, kernel_w=2, stride=2)\n",
    "        \n",
    "        self.layers['Affine1'] = Affine(self.params['W2'], self.params['b2'])\n",
    "        self.layers['Activation2'] = ReLu()\n",
    "        \n",
    "        self.layers['Affine2'] = Affine(self.params['W3'], self.params['b3'])\n",
    "        \n",
    "        self.last_layer = None\n",
    "    \n",
    "    def forward(self, x):\n",
    "        for layer in self.layers.values():\n",
    "            x = layer.forward(x)\n",
    "        return x\n",
    "    \n",
    "    def loss(self, x, t):\n",
    "        y = self.forward(x)\n",
    "        self.last_layer = softmax_cross_entropy(t)\n",
    "        return self.last_layer.forward(y)\n",
    "    \n",
    "    def gradient(self, x, t):\n",
    "        self.loss(x, t)\n",
    "        dout = 1\n",
    "        dout = self.last_layer.backward(dout)\n",
    "        \n",
    "        layers = list(self.layers.values)\n",
    "        layers.reverse()\n",
    "        \n",
    "        for layer in layers:\n",
    "            dout = layer.backward(dout)\n",
    "        \n",
    "        grads = {}\n",
    "        grads['W1'] = self.layers['Conv1'].dW\n",
    "        grads['b1'] = self.layers['Conv1'].db\n",
    "        grads['W2'] = self.layers['Affine1'].dW\n",
    "        grads['b2'] = self.layers['Affine1'].db\n",
    "        grads['W3'] = self.layers['Affine2'].dW\n",
    "        grads['b3'] = self.layers['Affine2'].db\n",
    "        \n",
    "        return grads"
   ]
  },
  {
   "cell_type": "code",
   "execution_count": 15,
   "metadata": {},
   "outputs": [],
   "source": [
    "def train(images, labels, alpha=0.01, spochs=100, batch_size = 100, images_test=None, labels_test=None):\n",
    "    net = SimpleConvNet()\n",
    "#     print net.paras\n",
    "    train_loss_list = []\n",
    "    train_size = images.shape[0]\n",
    "    for i in range(spochs):\n",
    "        batch_mask = np.random.choice(train_size, batch_size)\n",
    "        x = images[batch_mask]\n",
    "        y = labels[batch_mask] # 抽样\n",
    "        grad = net.gradient(x, y)\n",
    "        \n",
    "        \n",
    "        for k,v in grad.items():\n",
    "            net.paras[k] -= alpha*grad[k]\n",
    "        loss = net.loss(x, y)\n",
    "        print \"has trained %d times, the train's loss %f\" % (i+1, loss)\n",
    "        if images_test is not None and labels_test is not None:\n",
    "            print net.accuracy(images_test, labels_test)\n",
    "        train_loss_list.append(loss)\n",
    "    return net, train_loss_list"
   ]
  },
  {
   "cell_type": "code",
   "execution_count": 17,
   "metadata": {},
   "outputs": [],
   "source": [
    "def load_data(path = \"../data/mnist\", kind = 'train', one_hot = True, normals = True):\n",
    "    images, labels = load_mnist(path, kind=kind)\n",
    "    if normals == True:\n",
    "        images = images / 255.0\n",
    "    if one_hot == True:\n",
    "        labels_onehot = np.zeros((labels.shape[0], np.unique(labels).shape[0]))\n",
    "        for i in range(labels_onehot.shape[0]):\n",
    "            labels_onehot[i][labels[i]] = 1\n",
    "        labels = labels_onehot\n",
    "    return (images, labels)"
   ]
  },
  {
   "cell_type": "code",
   "execution_count": 18,
   "metadata": {},
   "outputs": [],
   "source": [
    "train_x, train_y = load_data(kind='train')\n",
    "test_x, test_y = load_data(kind='t10k')"
   ]
  },
  {
   "cell_type": "code",
   "execution_count": 20,
   "metadata": {},
   "outputs": [],
   "source": [
    "train_cx = train_x.reshape(-1, 1, 28, 28)\n",
    "test_cx  = test_x.reshape(-1, 1, 28, 28)"
   ]
  },
  {
   "cell_type": "code",
   "execution_count": 21,
   "metadata": {},
   "outputs": [
    {
     "data": {
      "text/plain": [
       "(60000, 1, 28, 28)"
      ]
     },
     "execution_count": 21,
     "metadata": {},
     "output_type": "execute_result"
    }
   ],
   "source": [
    "train_cx.shape"
   ]
  },
  {
   "cell_type": "code",
   "execution_count": 31,
   "metadata": {},
   "outputs": [
    {
     "ename": "ValueError",
     "evalue": "shapes (100,30,12,12) and (4320,100) not aligned: 12 (dim 3) != 4320 (dim 0)",
     "output_type": "error",
     "traceback": [
      "\u001b[0;31m---------------------------------------------------------------------------\u001b[0m",
      "\u001b[0;31mValueError\u001b[0m                                Traceback (most recent call last)",
      "\u001b[0;32m<ipython-input-31-cb1b47db8561>\u001b[0m in \u001b[0;36m<module>\u001b[0;34m()\u001b[0m\n\u001b[0;32m----> 1\u001b[0;31m \u001b[0mtrain\u001b[0m\u001b[0;34m(\u001b[0m\u001b[0mimages\u001b[0m\u001b[0;34m=\u001b[0m\u001b[0mtrain_cx\u001b[0m\u001b[0;34m,\u001b[0m \u001b[0mlabels\u001b[0m\u001b[0;34m=\u001b[0m\u001b[0mtrain_y\u001b[0m\u001b[0;34m,\u001b[0m \u001b[0mimages_test\u001b[0m\u001b[0;34m=\u001b[0m\u001b[0mtest_cx\u001b[0m\u001b[0;34m,\u001b[0m \u001b[0mlabels_test\u001b[0m\u001b[0;34m=\u001b[0m\u001b[0mtest_y\u001b[0m\u001b[0;34m)\u001b[0m\u001b[0;34m\u001b[0m\u001b[0m\n\u001b[0m",
      "\u001b[0;32m<ipython-input-15-d3f78444091a>\u001b[0m in \u001b[0;36mtrain\u001b[0;34m(images, labels, alpha, spochs, batch_size, images_test, labels_test)\u001b[0m\n\u001b[1;32m      8\u001b[0m         \u001b[0mx\u001b[0m \u001b[0;34m=\u001b[0m \u001b[0mimages\u001b[0m\u001b[0;34m[\u001b[0m\u001b[0mbatch_mask\u001b[0m\u001b[0;34m]\u001b[0m\u001b[0;34m\u001b[0m\u001b[0m\n\u001b[1;32m      9\u001b[0m         \u001b[0my\u001b[0m \u001b[0;34m=\u001b[0m \u001b[0mlabels\u001b[0m\u001b[0;34m[\u001b[0m\u001b[0mbatch_mask\u001b[0m\u001b[0;34m]\u001b[0m \u001b[0;31m# 抽样\u001b[0m\u001b[0;34m\u001b[0m\u001b[0m\n\u001b[0;32m---> 10\u001b[0;31m         \u001b[0mgrad\u001b[0m \u001b[0;34m=\u001b[0m \u001b[0mnet\u001b[0m\u001b[0;34m.\u001b[0m\u001b[0mgradient\u001b[0m\u001b[0;34m(\u001b[0m\u001b[0mx\u001b[0m\u001b[0;34m,\u001b[0m \u001b[0my\u001b[0m\u001b[0;34m)\u001b[0m\u001b[0;34m\u001b[0m\u001b[0m\n\u001b[0m\u001b[1;32m     11\u001b[0m \u001b[0;34m\u001b[0m\u001b[0m\n\u001b[1;32m     12\u001b[0m \u001b[0;34m\u001b[0m\u001b[0m\n",
      "\u001b[0;32m<ipython-input-30-f0d60c3160aa>\u001b[0m in \u001b[0;36mgradient\u001b[0;34m(self, x, t)\u001b[0m\n\u001b[1;32m     47\u001b[0m \u001b[0;34m\u001b[0m\u001b[0m\n\u001b[1;32m     48\u001b[0m     \u001b[0;32mdef\u001b[0m \u001b[0mgradient\u001b[0m\u001b[0;34m(\u001b[0m\u001b[0mself\u001b[0m\u001b[0;34m,\u001b[0m \u001b[0mx\u001b[0m\u001b[0;34m,\u001b[0m \u001b[0mt\u001b[0m\u001b[0;34m)\u001b[0m\u001b[0;34m:\u001b[0m\u001b[0;34m\u001b[0m\u001b[0m\n\u001b[0;32m---> 49\u001b[0;31m         \u001b[0mself\u001b[0m\u001b[0;34m.\u001b[0m\u001b[0mloss\u001b[0m\u001b[0;34m(\u001b[0m\u001b[0mx\u001b[0m\u001b[0;34m,\u001b[0m \u001b[0mt\u001b[0m\u001b[0;34m)\u001b[0m\u001b[0;34m\u001b[0m\u001b[0m\n\u001b[0m\u001b[1;32m     50\u001b[0m         \u001b[0mdout\u001b[0m \u001b[0;34m=\u001b[0m \u001b[0;36m1\u001b[0m\u001b[0;34m\u001b[0m\u001b[0m\n\u001b[1;32m     51\u001b[0m         \u001b[0mdout\u001b[0m \u001b[0;34m=\u001b[0m \u001b[0mself\u001b[0m\u001b[0;34m.\u001b[0m\u001b[0mlast_layer\u001b[0m\u001b[0;34m.\u001b[0m\u001b[0mbackward\u001b[0m\u001b[0;34m(\u001b[0m\u001b[0mdout\u001b[0m\u001b[0;34m)\u001b[0m\u001b[0;34m\u001b[0m\u001b[0m\n",
      "\u001b[0;32m<ipython-input-30-f0d60c3160aa>\u001b[0m in \u001b[0;36mloss\u001b[0;34m(self, x, t)\u001b[0m\n\u001b[1;32m     42\u001b[0m \u001b[0;34m\u001b[0m\u001b[0m\n\u001b[1;32m     43\u001b[0m     \u001b[0;32mdef\u001b[0m \u001b[0mloss\u001b[0m\u001b[0;34m(\u001b[0m\u001b[0mself\u001b[0m\u001b[0;34m,\u001b[0m \u001b[0mx\u001b[0m\u001b[0;34m,\u001b[0m \u001b[0mt\u001b[0m\u001b[0;34m)\u001b[0m\u001b[0;34m:\u001b[0m\u001b[0;34m\u001b[0m\u001b[0m\n\u001b[0;32m---> 44\u001b[0;31m         \u001b[0my\u001b[0m \u001b[0;34m=\u001b[0m \u001b[0mself\u001b[0m\u001b[0;34m.\u001b[0m\u001b[0mforward\u001b[0m\u001b[0;34m(\u001b[0m\u001b[0mx\u001b[0m\u001b[0;34m)\u001b[0m\u001b[0;34m\u001b[0m\u001b[0m\n\u001b[0m\u001b[1;32m     45\u001b[0m         \u001b[0mself\u001b[0m\u001b[0;34m.\u001b[0m\u001b[0mlast_layer\u001b[0m \u001b[0;34m=\u001b[0m \u001b[0msoftmax_cross_entropy\u001b[0m\u001b[0;34m(\u001b[0m\u001b[0mt\u001b[0m\u001b[0;34m)\u001b[0m\u001b[0;34m\u001b[0m\u001b[0m\n\u001b[1;32m     46\u001b[0m         \u001b[0;32mreturn\u001b[0m \u001b[0mself\u001b[0m\u001b[0;34m.\u001b[0m\u001b[0mlast_layer\u001b[0m\u001b[0;34m.\u001b[0m\u001b[0mforward\u001b[0m\u001b[0;34m(\u001b[0m\u001b[0my\u001b[0m\u001b[0;34m)\u001b[0m\u001b[0;34m\u001b[0m\u001b[0m\n",
      "\u001b[0;32m<ipython-input-30-f0d60c3160aa>\u001b[0m in \u001b[0;36mforward\u001b[0;34m(self, x)\u001b[0m\n\u001b[1;32m     38\u001b[0m     \u001b[0;32mdef\u001b[0m \u001b[0mforward\u001b[0m\u001b[0;34m(\u001b[0m\u001b[0mself\u001b[0m\u001b[0;34m,\u001b[0m \u001b[0mx\u001b[0m\u001b[0;34m)\u001b[0m\u001b[0;34m:\u001b[0m\u001b[0;34m\u001b[0m\u001b[0m\n\u001b[1;32m     39\u001b[0m         \u001b[0;32mfor\u001b[0m \u001b[0mlayer\u001b[0m \u001b[0;32min\u001b[0m \u001b[0mself\u001b[0m\u001b[0;34m.\u001b[0m\u001b[0mlayers\u001b[0m\u001b[0;34m.\u001b[0m\u001b[0mvalues\u001b[0m\u001b[0;34m(\u001b[0m\u001b[0;34m)\u001b[0m\u001b[0;34m:\u001b[0m\u001b[0;34m\u001b[0m\u001b[0m\n\u001b[0;32m---> 40\u001b[0;31m             \u001b[0mx\u001b[0m \u001b[0;34m=\u001b[0m \u001b[0mlayer\u001b[0m\u001b[0;34m.\u001b[0m\u001b[0mforward\u001b[0m\u001b[0;34m(\u001b[0m\u001b[0mx\u001b[0m\u001b[0;34m)\u001b[0m\u001b[0;34m\u001b[0m\u001b[0m\n\u001b[0m\u001b[1;32m     41\u001b[0m         \u001b[0;32mreturn\u001b[0m \u001b[0mx\u001b[0m\u001b[0;34m\u001b[0m\u001b[0m\n\u001b[1;32m     42\u001b[0m \u001b[0;34m\u001b[0m\u001b[0m\n",
      "\u001b[0;32m<ipython-input-22-a208c82d75a6>\u001b[0m in \u001b[0;36mforward\u001b[0;34m(self, x)\u001b[0m\n\u001b[1;32m     26\u001b[0m     \u001b[0;32mdef\u001b[0m \u001b[0mforward\u001b[0m\u001b[0;34m(\u001b[0m\u001b[0mself\u001b[0m\u001b[0;34m,\u001b[0m \u001b[0mx\u001b[0m\u001b[0;34m)\u001b[0m\u001b[0;34m:\u001b[0m\u001b[0;34m\u001b[0m\u001b[0m\n\u001b[1;32m     27\u001b[0m         \u001b[0mself\u001b[0m\u001b[0;34m.\u001b[0m\u001b[0mx\u001b[0m \u001b[0;34m=\u001b[0m \u001b[0mx\u001b[0m\u001b[0;34m\u001b[0m\u001b[0m\n\u001b[0;32m---> 28\u001b[0;31m         \u001b[0;32mreturn\u001b[0m \u001b[0mnp\u001b[0m\u001b[0;34m.\u001b[0m\u001b[0mdot\u001b[0m\u001b[0;34m(\u001b[0m\u001b[0mx\u001b[0m\u001b[0;34m,\u001b[0m \u001b[0mself\u001b[0m\u001b[0;34m.\u001b[0m\u001b[0mW\u001b[0m\u001b[0;34m)\u001b[0m \u001b[0;34m+\u001b[0m \u001b[0mself\u001b[0m\u001b[0;34m.\u001b[0m\u001b[0mb\u001b[0m\u001b[0;34m\u001b[0m\u001b[0m\n\u001b[0m\u001b[1;32m     29\u001b[0m \u001b[0;34m\u001b[0m\u001b[0m\n\u001b[1;32m     30\u001b[0m     \u001b[0;32mdef\u001b[0m \u001b[0mbackward\u001b[0m\u001b[0;34m(\u001b[0m\u001b[0mself\u001b[0m\u001b[0;34m,\u001b[0m \u001b[0mdout\u001b[0m\u001b[0;34m)\u001b[0m\u001b[0;34m:\u001b[0m\u001b[0;34m\u001b[0m\u001b[0m\n",
      "\u001b[0;31mValueError\u001b[0m: shapes (100,30,12,12) and (4320,100) not aligned: 12 (dim 3) != 4320 (dim 0)"
     ]
    }
   ],
   "source": [
    "train(images=train_cx, labels=train_y, images_test=test_cx, labels_test=test_y)"
   ]
  },
  {
   "cell_type": "code",
   "execution_count": null,
   "metadata": {},
   "outputs": [],
   "source": []
  }
 ],
 "metadata": {
  "kernelspec": {
   "display_name": "Python 2",
   "language": "python",
   "name": "python2"
  },
  "language_info": {
   "codemirror_mode": {
    "name": "ipython",
    "version": 2
   },
   "file_extension": ".py",
   "mimetype": "text/x-python",
   "name": "python",
   "nbconvert_exporter": "python",
   "pygments_lexer": "ipython2",
   "version": "2.7.15"
  }
 },
 "nbformat": 4,
 "nbformat_minor": 2
}
