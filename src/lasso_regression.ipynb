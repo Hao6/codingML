{
 "cells": [
  {
   "cell_type": "markdown",
   "metadata": {},
   "source": [
    "## lasso回归\n",
    "- 使用L1 正则化项的线性回归"
   ]
  },
  {
   "cell_type": "code",
   "execution_count": 1,
   "metadata": {},
   "outputs": [],
   "source": [
    "import numpy as np\n",
    "import matplotlib.pyplot as plt\n",
    "from sklearn import datasets, linear_model\n",
    "from sklearn.metrics import mean_squared_error, r2_score"
   ]
  },
  {
   "cell_type": "markdown",
   "metadata": {},
   "source": [
    "#### 因为Lasso的代价函数并非处处可导，所以梯度下降可能无法达到全局最优解，可使用坐标下降法或者最小角回归方法来实现Lasso的训练"
   ]
  },
  {
   "cell_type": "markdown",
   "metadata": {},
   "source": [
    "### 梯度下降法"
   ]
  },
  {
   "cell_type": "code",
   "execution_count": 2,
   "metadata": {},
   "outputs": [],
   "source": [
    "class LassoRegression(object):\n",
    "    def __init__(self, learning_rate = 0.1, epochs = 500, verbose=False, lam=0.5):\n",
    "        self.theta = None\n",
    "        self.b = None\n",
    "        self.alpha = learning_rate\n",
    "        self.epochs = epochs\n",
    "        self.verbose = verbose\n",
    "        self.lam = lam\n",
    "    def train(self, train_x, train_y):\n",
    "        if len(train_y.shape) == 1:\n",
    "            train_y = train_y.reshape(-1, 1)\n",
    "        m , n = train_x.shape\n",
    "        np.random.seed(78)\n",
    "        mu = 0.4\n",
    "        sigma = 0.8\n",
    "        self.theta = sigma*np.random.randn(1,n)+mu\n",
    "        self.b = np.random.random()\n",
    "        for i in xrange(self.epochs):\n",
    "            pre_y = self.predict(train_x)\n",
    "            delta_l1 = np.ones_like(self.theta)\n",
    "            delta_l1[self.theta < 0] = -1\n",
    "            d_theta = np.mean((pre_y - train_y)*train_x,axis=0) \\\n",
    "                                                + self.lam * delta_l1\n",
    "            d_b    = np.mean(pre_y - train_y, axis=0)\n",
    "            self.theta -= self.alpha * d_theta\n",
    "            self.b     -= self.alpha * d_b\n",
    "            if self.verbose is True and (i+1) % 100 == 0:\n",
    "                print \"the %d epoch, the W is %d and the b is %d\" \\\n",
    "                % (i, self.theta, self.b)\n",
    "    def fit(self, train_x, train_y):\n",
    "        self.train(train_x, train_y)\n",
    "    def predict(self, x):\n",
    "        \"\"\"\n",
    "        type sita:([[]])\n",
    "        type b:float\n",
    "        type X:([[]])\n",
    "        rtype:([[]])\n",
    "        \"\"\"\n",
    "        pre = np.dot(x , self.theta.T) + self.b\n",
    "        return pre"
   ]
  },
  {
   "cell_type": "markdown",
   "metadata": {},
   "source": [
    "### 坐标下降法"
   ]
  },
  {
   "cell_type": "code",
   "execution_count": 23,
   "metadata": {},
   "outputs": [],
   "source": [
    "class LassoRegression1(object):\n",
    "    def __init__(self, learning_rate = 0.01, epochs = 500, verbose=False, lam=0.5,\n",
    "                 epsilon=1e-7):\n",
    "        self.theta = None\n",
    "        self.b = None\n",
    "        self.alpha = learning_rate\n",
    "        self.epochs = epochs\n",
    "        self.verbose = verbose\n",
    "        self.lam = lam\n",
    "        self.epsilon = epsilon\n",
    "    def train(self, train_x, train_y):\n",
    "        if len(train_y.shape) == 1:\n",
    "            train_y = train_y.reshape(-1, 1)\n",
    "        m , n = train_x.shape\n",
    "        np.random.seed(78)\n",
    "        mu = 0.4\n",
    "        sigma = 0.8\n",
    "        self.theta = sigma*np.random.randn(1,n)+mu\n",
    "        self.b = np.random.random()\n",
    "        i = 0\n",
    "        while i < self.epochs:\n",
    "            axis_updates = 0 # 发生更新的坐标轴个数\n",
    "            cur_axis_updates = 0 # 当前坐标轴的更新次数\n",
    "            # 先更新b\n",
    "            while True:\n",
    "                pre_y = self.predict(train_x)\n",
    "                d_b   = np.mean(pre_y - train_y, axis=0)\n",
    "                b_update = self.alpha * d_b\n",
    "                if np.abs(b_update) < self.epsilon:\n",
    "                    break\n",
    "                self.b -= b_update\n",
    "                cur_axis_updates += 1\n",
    "            if cur_axis_updates > 0:\n",
    "                axis_updates += 1\n",
    "            # 按照坐标顺序依次更新w\n",
    "            for j in range(n):\n",
    "                cur_axis_updates = 0 # 重新归零\n",
    "                while cur_axis_updates < 50: # 内部迭代次数的限制\n",
    "                    pre_y = self.predict(train_x)\n",
    "                    delta_l1 = 0\n",
    "                    if self.theta[0][j] > 0:\n",
    "                        delta_l1 = 1\n",
    "                    elif self.theta[0][j] < 0:\n",
    "                        delta_l1 = -1\n",
    "                    d_theta = np.mean((pre_y - train_y)*train_x[:, j].reshape(-1, 1)) \\\n",
    "                                                    + self.lam * delta_l1\n",
    "                    theta_update = self.alpha * d_theta\n",
    "                    if np.abs(theta_update) < self.epsilon:\n",
    "                        break\n",
    "                    self.theta[0][j] -= theta_update\n",
    "                    cur_axis_updates += 1\n",
    "                if cur_axis_updates > 0:\n",
    "                    axis_updates += 1\n",
    "            if self.verbose is True and (i+1) % 50 == 0:\n",
    "                print \"the %d epoch\" % (i+1)\n",
    "            if axis_updates == 0: # 说明没有坐标轴的更新量大于阈值，退出外部循环即可\n",
    "                break\n",
    "            i += 1\n",
    "    def fit(self, train_x, train_y):\n",
    "        self.train(train_x, train_y)\n",
    "    def predict(self, x):\n",
    "        \"\"\"\n",
    "        type sita:([[]])\n",
    "        type b:float\n",
    "        type X:([[]])\n",
    "        rtype:([[]])\n",
    "        \"\"\"\n",
    "        pre = np.dot(x , self.theta.T) + self.b\n",
    "        return pre"
   ]
  },
  {
   "cell_type": "markdown",
   "metadata": {},
   "source": [
    "### 最小角回归方法 \n",
    "- 待续"
   ]
  },
  {
   "cell_type": "code",
   "execution_count": 17,
   "metadata": {},
   "outputs": [],
   "source": [
    "def load_data():\n",
    "    n_samples, n_features = 50, 200\n",
    "    X = np.random.randn(n_samples, n_features)\n",
    "    coef = 3 * np.random.randn(n_features)\n",
    "    inds = np.arange(n_features)\n",
    "    np.random.shuffle(inds)\n",
    "    coef[inds[10:]] = 0  # sparsify coef\n",
    "    y = np.dot(X, coef)\n",
    "\n",
    "    # add noise\n",
    "    y += 0.01 * np.random.normal(size=n_samples)\n",
    "\n",
    "    # Split data in train set and test set\n",
    "    n_samples = X.shape[0]\n",
    "    X_train, y_train = X[:n_samples // 2], y[:n_samples // 2]\n",
    "    X_test, y_test = X[n_samples // 2:], y[n_samples // 2:]\n",
    "    \n",
    "    return X_train, X_test, y_train, y_test, coef"
   ]
  },
  {
   "cell_type": "code",
   "execution_count": 18,
   "metadata": {},
   "outputs": [],
   "source": [
    "def regression(train_x, train_y, test_x, test_y, coef):\n",
    "    lam = 0.2\n",
    "    lasso = LassoRegression1(learning_rate=0.1, epochs=500, verbose=True, lam=lam,\n",
    "                             epsilon=1e-2)\n",
    "    lasso.fit(train_x, train_y)\n",
    "    y_pre = lasso.predict(test_x)\n",
    "    r2_score_lasso = r2_score(test_y, y_pre)\n",
    "    print(\"r^2 on test data : %f\" % r2_score_lasso)\n",
    "\n",
    "    plt.figure(figsize=(12, 7))\n",
    "    plt.plot(lasso.theta.flatten(), color='gold', linewidth=2, label='Lasso coefficients')\n",
    "    plt.plot(coef, '--', color='navy', label='original coefficients')\n",
    "    plt.legend(loc='best')\n",
    "    plt.title(\"Lasso R^2: %f\" % (r2_score_lasso))"
   ]
  },
  {
   "cell_type": "code",
   "execution_count": 19,
   "metadata": {},
   "outputs": [],
   "source": [
    "train_x, test_x, train_y, test_y, coef = load_data()"
   ]
  },
  {
   "cell_type": "code",
   "execution_count": 20,
   "metadata": {},
   "outputs": [
    {
     "name": "stdout",
     "output_type": "stream",
     "text": [
      "(25, 200)\n",
      "(25, 200)\n"
     ]
    }
   ],
   "source": [
    "print train_x.shape\n",
    "print test_x.shape"
   ]
  },
  {
   "cell_type": "code",
   "execution_count": 24,
   "metadata": {},
   "outputs": [
    {
     "name": "stdout",
     "output_type": "stream",
     "text": [
      "the 50 epoch\n",
      "the 100 epoch\n",
      "the 150 epoch\n",
      "the 200 epoch\n",
      "the 250 epoch\n",
      "the 300 epoch\n",
      "the 350 epoch\n",
      "the 400 epoch\n",
      "the 450 epoch\n",
      "the 500 epoch\n",
      "r^2 on test data : 0.694874\n"
     ]
    },
    {
     "data": {
      "image/png": "[encoded data removed]",
      "text/plain": [
       "<Figure size 864x504 with 1 Axes>"
      ]
     },
     "metadata": {},
     "output_type": "display_data"
    }
   ],
   "source": [
    "regression(train_x, train_y, test_x, test_y, coef)"
   ]
  },
  {
   "cell_type": "code",
   "execution_count": null,
   "metadata": {},
   "outputs": [],
   "source": []
  }
 ],
 "metadata": {
  "kernelspec": {
   "display_name": "Python 2",
   "language": "python",
   "name": "python2"
  },
  "language_info": {
   "codemirror_mode": {
    "name": "ipython",
    "version": 2
   },
   "file_extension": ".py",
   "mimetype": "text/x-python",
   "name": "python",
   "nbconvert_exporter": "python",
   "pygments_lexer": "ipython2",
   "version": "2.7.15"
  }
 },
 "nbformat": 4,
 "nbformat_minor": 2
}
