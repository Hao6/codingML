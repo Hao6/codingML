{
 "cells": [
  {
   "cell_type": "code",
   "execution_count": null,
   "metadata": {},
   "outputs": [],
   "source": [
    "class classfier:\n",
    "    def __init__(self):\n",
    "        pass\n",
    "    def fit(self, train_X=None, train_y=None, valid_X = None, valid_y = None):\n",
    "        pass\n",
    "    def predict(self, test_X):\n",
    "        pass\n",
    "    def evaluate(self, pre, label, evaluate_func=None):\n",
    "        pass"
   ]
  }
 ],
 "metadata": {
  "kernelspec": {
   "display_name": "Python 2",
   "language": "python",
   "name": "python2"
  },
  "language_info": {
   "codemirror_mode": {
    "name": "ipython",
    "version": 2
   },
   "file_extension": ".py",
   "mimetype": "text/x-python",
   "name": "python",
   "nbconvert_exporter": "python",
   "pygments_lexer": "ipython2",
   "version": "2.7.14"
  }
 },
 "nbformat": 4,
 "nbformat_minor": 2
}
