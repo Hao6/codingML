{
 "cells": [
  {
   "cell_type": "markdown",
   "metadata": {},
   "source": [
    "# Adaboost \n",
    "- 以决策树桩(单层决策树)作为基分类器的Adaboost"
   ]
  },
  {
   "cell_type": "code",
   "execution_count": 2,
   "metadata": {},
   "outputs": [
    {
     "name": "stderr",
     "output_type": "stream",
     "text": [
      "/home/hao/miniconda2/lib/python2.7/site-packages/matplotlib/font_manager.py:273: UserWarning: Matplotlib is building the font cache using fc-list. This may take a moment.\n",
      "  warnings.warn('Matplotlib is building the font cache using fc-list. This may take a moment.')\n"
     ]
    }
   ],
   "source": [
    "import numpy as np\n",
    "import matplotlib.pyplot as plt"
   ]
  },
  {
   "cell_type": "code",
   "execution_count": 26,
   "metadata": {},
   "outputs": [],
   "source": [
    "%matplotlib inline"
   ]
  },
  {
   "cell_type": "markdown",
   "metadata": {},
   "source": [
    "## Decesion tree stump(决策树桩) "
   ]
  },
  {
   "cell_type": "code",
   "execution_count": 8,
   "metadata": {},
   "outputs": [],
   "source": [
    "class stump_classify:\n",
    "    def __init__(self, train_X, train_y, valid_X = None, valid_y = None):\n",
    "        \"\"\"\n",
    "        type train_X:[[]]\n",
    "        type train_y:[]\n",
    "        type valid_X:[[]]\n",
    "        type valid_y:[]\n",
    "        \"\"\"\n",
    "        self.train_X = train_X\n",
    "        self.train_y = train_y\n",
    "        self.valid_X = valid_X\n",
    "        self.valid_y = valid_y\n",
    "    def fit(self, num_steps, wrong_wei):\n",
    "        \"\"\"\n",
    "        type num_steps:int, 属性值空间的划分次数\n",
    "        type wrong_wei:[float], 每条数据对应的权重\n",
    "        \"\"\"\n",
    "        m , n = self.train_X.shape\n",
    "        thread_ineqs = [\"left_true\",\"right_true\"]\n",
    "        max_score = -float(\"inf\")\n",
    "        parameter_dic = {}\n",
    "        for i in range(n):\n",
    "            cur_dimen_min = self.train_X[:,i].min()\n",
    "            cur_dimen_max = self.train_X[:,i].max()\n",
    "            thread_range = cur_dimen_max - cur_dimen_min # 当前属性的值区间\n",
    "            for thread_val in np.linspace(cur_dimen_min,cur_dimen_max,num_steps):\n",
    "                for thread_ineq in thread_ineqs:\n",
    "                    pre = self.predict(dimen=i, thread_val=thread_val, thread_ineq= thread_ineq,\\\n",
    "                                       test_X=self.train_X)\n",
    "                    cur_score = self.evaluate(self.train_y, pre, wrong_wei)\n",
    "                    if cur_score > max_score:\n",
    "                        max_score = cur_score\n",
    "                        parameter_dic['dimen'] = i\n",
    "                        parameter_dic['thread_val'] = thread_val\n",
    "                        parameter_dic['thread_ineq'] = thread_ineq\n",
    "        return parameter_dic\n",
    "    \n",
    "    # 三个参数可以看做是学习得到的三个参数，最终的模型也是使用这三个参数来表示的\n",
    "    def predict(self, dimen, thread_val, thread_ineq, test_X):\n",
    "        \"\"\"\n",
    "        type dimen:int, 使用哪个维度作为划分属性\n",
    "        type thread_val:float, 使用 dimen>thread_val 与 dimen<=thread_val 划分为两部分\n",
    "        type thread_ineq:str, 表明 dimen>thread_val 属于那个类别\n",
    "        rtype [], 预测结果\n",
    "        \"\"\"\n",
    "        m, _ = test_X.shape\n",
    "        pre = np.zeros(m)\n",
    "        if thread_ineq == \"left_true\":\n",
    "            pre[test_X[:, dimen] < thread_val] = 1\n",
    "        else:\n",
    "            pre[test_X[:, dimen] >= thread_val] = 1\n",
    "        return pre\n",
    "    \n",
    "    def evaluate(self, test_y, pre, wrong_wei, score=None):\n",
    "        if score == None:\n",
    "            return np.sum((test_y == pre).astype(int) * wrong_wei) / len(test_y) # 默认以准确率作为评价指标\n",
    "        else:\n",
    "            return score(test_y, pre)"
   ]
  },
  {
   "cell_type": "code",
   "execution_count": 15,
   "metadata": {},
   "outputs": [],
   "source": [
    "?plt.scatter"
   ]
  },
  {
   "cell_type": "markdown",
   "metadata": {},
   "source": [
    "### 测试 stump-tree(决策树桩) "
   ]
  },
  {
   "cell_type": "code",
   "execution_count": 9,
   "metadata": {},
   "outputs": [],
   "source": [
    "def load_simple_data():\n",
    "    data = np.array(\n",
    "        [[1, 2.1],\n",
    "         [2, 1.1],\n",
    "         [1.3, 1],\n",
    "         [1, 1],\n",
    "         [2, 1]])\n",
    "    label = np.array([1, 1, 0, 0, 1])\n",
    "    return (data, label)"
   ]
  },
  {
   "cell_type": "code",
   "execution_count": 10,
   "metadata": {},
   "outputs": [],
   "source": [
    "x, y = load_simple_data()"
   ]
  },
  {
   "cell_type": "code",
   "execution_count": 11,
   "metadata": {},
   "outputs": [],
   "source": [
    "stump = stump_classify(x, y)"
   ]
  },
  {
   "cell_type": "code",
   "execution_count": 12,
   "metadata": {},
   "outputs": [],
   "source": [
    "para = stump.fit(5, np.ones(len(x)))"
   ]
  },
  {
   "cell_type": "code",
   "execution_count": 13,
   "metadata": {},
   "outputs": [
    {
     "data": {
      "text/plain": [
       "array([ 0.,  1.,  0.,  0.,  1.])"
      ]
     },
     "execution_count": 13,
     "metadata": {},
     "output_type": "execute_result"
    }
   ],
   "source": [
    "stump.predict(test_X=x, **para)"
   ]
  },
  {
   "cell_type": "code",
   "execution_count": 14,
   "metadata": {},
   "outputs": [
    {
     "name": "stdout",
     "output_type": "stream",
     "text": [
      "{'dimen': 0, 'thread_ineq': 'right_true', 'thread_val': 1.5}\n"
     ]
    }
   ],
   "source": [
    "print para"
   ]
  },
  {
   "cell_type": "code",
   "execution_count": 16,
   "metadata": {},
   "outputs": [
    {
     "data": {
      "image/png": "[encoded data removed]",
      "text/plain": [
       "<matplotlib.figure.Figure at 0x7f3cb63f4c90>"
      ]
     },
     "metadata": {},
     "output_type": "display_data"
    }
   ],
   "source": [
    "plt.scatter(x[y == 0,0], x[y==0,1], c='blue', label=\"-1\", marker=\"o\")\n",
    "plt.scatter(x[y == 1,0], x[y==1,1], c='red', label=\"+1\", marker=\"s\")\n",
    "ylim = plt.ylim()\n",
    "plt.plot([para['thread_val'],para['thread_val']],ylim, label=para['thread_ineq'])\n",
    "plt.legend()\n",
    "plt.grid()"
   ]
  },
  {
   "cell_type": "markdown",
   "metadata": {},
   "source": [
    "***蓝色直线表示右边部分被分类为正类，左边被分类为负类,即使是单阶段最优的决策树桩也无法完全区分如上图分布的样本，通过AdaBoost算法则可以做到***"
   ]
  },
  {
   "cell_type": "markdown",
   "metadata": {},
   "source": [
    "## AdaBoost(adaptive boost) 算法 \n",
    "1. 为每个训练样本初始化相同的权重，方便起见，将其记为向量 $W$\n",
    "2. 开始一轮训练，在本轮训练完成后，判断是否达到迭代次数阈值或者错误率已经达到阈值，如果是，则输出模型，结束训练，否则转3\n",
    "3. 根据本轮训练模型在训练集上的表现，更新 $W$，转到2  \n",
    "\n",
    "\n",
    "- 上述的三个步骤中，第三步的权重更新规则的制定是最为关键的，一般的算法如下：\n",
    "\n",
    "\n",
    "1. 定义错误率 $\\epsilon = \\frac{未正确分类的样本数目}{全部样本数目}$  \n",
    "2. 定义权重因子 $\\alpha = \\frac{1}{2}\\ln {\\frac{1-\\epsilon}{\\epsilon}}$\n",
    "3. 定义权重向量更新规则  \n",
    "  - 如果样本 $W_{i}$第 $t$ 轮被正确分类，则 $\\frac{W_{i}^{t+1} = W_{i}^{t}\\exp {-\\alpha}}{\\sum{W}}$   \n",
    "  \n",
    "  - 如果样本 $W_{i}$第 $t$ 轮被错误分类，则 $\\frac{W_{i}^{t+1} = W_{i}^{t}\\exp {\\alpha}}{\\sum{W}}$ "
   ]
  },
  {
   "cell_type": "markdown",
   "metadata": {},
   "source": [
    "## 基于弱分类器(stump tree)的强分类器(AdaBoost) "
   ]
  },
  {
   "cell_type": "code",
   "execution_count": 17,
   "metadata": {},
   "outputs": [],
   "source": [
    "def adaboost_stump(train_x, train_y, epochs=40, error_rate_bound=0):\n",
    "    \"\"\"\n",
    "    type train_x   :[[]]\n",
    "    type train_y   :[[]]\n",
    "    type epochs    :int\n",
    "    type error_rate:float\n",
    "    \"\"\"\n",
    "    weak_classifier_arr = [] # 用来存放每轮的弱分类器\n",
    "    m, _ = train_x.shape\n",
    "    wrong_weight = np.ones(m, dtype=np.float32)/m # 初始权重向量\n",
    "    error_rate_arr = [] # 方便观察错误率的变化\n",
    "    pre_arr = [] # 每轮的预测结果\n",
    "    for i in range(epochs):\n",
    "        weak_classifier = stump_classify(train_x, train_y)\n",
    "        weak_model = weak_classifier.fit(5, wrong_weight)\n",
    "        weak_classifier_arr.append(weak_model)\n",
    "        pre = weak_classifier.predict(test_X=train_x, **weak_model)\n",
    "        error_rate = weak_classifier.evaluate(train_y, pre, wrong_weight) # 错误率\n",
    "        \n",
    "        alpha = 0.5*np.log((1-error_rate)/(error_rate+le-4)) # 防止出现除数为0的异常\n",
    "        error_rate_arr.append(error_rate)\n",
    "        weak_model['alpha'] = alpha\n",
    "        pre_arr.append(pre)\n",
    "        # 更新权重向量\n",
    "        temp_weight_sum = np.sum(wrong_weight)\n",
    "        wrong_weight[pre == y] = wrong_weight[pre == y]*np.exp(-alpha)/temp_weight_sum\n",
    "        wrong_weight[pre != y] = wrong_weight[pre != y]*np.exp(alpha) /temp_weight_sum\n",
    "        if error_rate <= error_rate_bound:\n",
    "            break\n",
    "    return (weak_classifier_arr, pre_arr, error_rate_arr)"
   ]
  },
  {
   "cell_type": "code",
   "execution_count": null,
   "metadata": {},
   "outputs": [],
   "source": []
  }
 ],
 "metadata": {
  "kernelspec": {
   "display_name": "Python 2",
   "language": "python",
   "name": "python2"
  },
  "language_info": {
   "codemirror_mode": {
    "name": "ipython",
    "version": 2
   },
   "file_extension": ".py",
   "mimetype": "text/x-python",
   "name": "python",
   "nbconvert_exporter": "python",
   "pygments_lexer": "ipython2",
   "version": "2.7.15"
  }
 },
 "nbformat": 4,
 "nbformat_minor": 2
}
