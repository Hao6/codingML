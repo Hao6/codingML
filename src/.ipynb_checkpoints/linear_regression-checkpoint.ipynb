{
 "cells": [
  {
   "cell_type": "markdown",
   "metadata": {},
   "source": [
    "## 线性回归 \n",
    "\n",
    "- 参数设置\n",
    "    - X, 样本数据, shape=(m,n),type:np.ndarray()\n",
    "    - y, 标签数据, shape=(m,1),type:np.ndarray()\n",
    "    - theta, 权重, shape=(1,n),type:np.ndarray()\n",
    "    - b, 偏差，标量, type:float"
   ]
  },
  {
   "cell_type": "code",
   "execution_count": 112,
   "metadata": {},
   "outputs": [],
   "source": [
    "import numpy as np\n",
    "import matplotlib.pyplot as plt\n",
    "from sklearn import datasets, linear_model\n",
    "from sklearn.metrics import mean_squared_error, r2_score"
   ]
  },
  {
   "cell_type": "markdown",
   "metadata": {},
   "source": [
    "#### 预测函数\n",
    "- 根据样本数据与权值向量得到预测变量\n",
    "\\begin{equation}\n",
    "X=\n",
    "\\left[\\begin{matrix}\n",
    "x_{11} & x_{12} & \\cdots & \\cdots & x_{1n}\\\\\n",
    "x_{21} & x_{22} & \\cdots & \\cdots & x_{2n}\\\\\n",
    "\\vdots & \\vdots & \\vdots & \\vdots & \\vdots\\\\\n",
    "x_{m1} & x_{m2} & \\cdots & \\cdots & x_{mn}\\\\\n",
    "\\end{matrix}\n",
    "\\right],\n",
    "\\theta=\n",
    "\\left[\\begin{matrix}\n",
    "\\theta_{1} & \\theta_{2} & \\cdots & \\cdots & \\theta_{n}\\\\\n",
    "\\end{matrix}\n",
    "\\right]\n",
    "\\end{equation}\n",
    "\\begin{equation}\n",
    "y = X \\times \\theta^{T}\n",
    "\\end{equation} \n",
    "\\begin{equation}\n",
    "\\left[\\begin{matrix}\n",
    "x_{11} & x_{12} & \\cdots & \\cdots & x_{1n}\\\\\n",
    "x_{21} & x_{22} & \\cdots & \\cdots & x_{2n}\\\\\n",
    "\\vdots & \\vdots & \\vdots & \\vdots & \\vdots\\\\\n",
    "x_{m1} & x_{m2} & \\cdots & \\cdots & x_{mn}\\\\\n",
    "\\end{matrix}\n",
    "\\right]\n",
    "\\left[\\begin{matrix}\n",
    "\\theta_{1} \\\\\n",
    "\\theta_{2} \\\\\n",
    "\\cdots \\\\\n",
    "\\theta_{n}\\\\\n",
    "\\end{matrix}\n",
    "\\right]=\n",
    "\\left[\\begin{matrix}\n",
    "y_{1} \\\\\n",
    "y_{2} \\\\\n",
    "\\cdots \\\\\n",
    "y_{m}\\\\\n",
    "\\end{matrix}\n",
    "\\right]\n",
    "\\end{equation}"
   ]
  },
  {
   "cell_type": "markdown",
   "metadata": {},
   "source": [
    "#### 梯度下降法逼近 $\\theta$ 与 $b$  "
   ]
  },
  {
   "cell_type": "code",
   "execution_count": 113,
   "metadata": {},
   "outputs": [],
   "source": [
    "class LinearRegression(object):\n",
    "    def __init__(self, learning_rate = 0.1, epochs = 500, verbose=False):\n",
    "        self.theta = None\n",
    "        self.b = None\n",
    "        self.alpha = learning_rate\n",
    "        self.epochs = epochs\n",
    "        self.verbose = verbose\n",
    "    def train(self, train_x, train_y):\n",
    "        if len(train_y.shape) == 1:\n",
    "            train_y = train_y.reshape(-1, 1)\n",
    "        m , n = train_x.shape\n",
    "        self.theta = np.random.randn(1,n)\n",
    "        self.b = np.random.randn()\n",
    "        for i in xrange(self.epochs):\n",
    "            pre_y = self.predict(train_x)\n",
    "            d_theta = np.mean((pre_y - train_y)*train_x,axis=0)\n",
    "            d_b    = np.mean(pre_y - train_y, axis=0)\n",
    "            self.theta -= self.alpha * d_theta\n",
    "            self.b     -= self.alpha * d_b\n",
    "            if self.verbose is True and (i+1) % 100 == 0:\n",
    "                print \"the %d epoch, the W is %d and the b is %d\" \\\n",
    "                % (i, self.theta, self.b)\n",
    "    def fit(self, train_x, train_y):\n",
    "        self.train(train_x, train_y)\n",
    "    def predict(self, x):\n",
    "        \"\"\"\n",
    "        type sita:([[]])\n",
    "        type b:float\n",
    "        type X:([[]])\n",
    "        rtype:([[]])\n",
    "        \"\"\"\n",
    "        pre = np.dot(x , self.theta.T) + self.b\n",
    "        return pre"
   ]
  },
  {
   "cell_type": "markdown",
   "metadata": {},
   "source": [
    "### 测试线性回归 "
   ]
  },
  {
   "cell_type": "code",
   "execution_count": 114,
   "metadata": {},
   "outputs": [],
   "source": [
    "def load_data():\n",
    "    diabetes = datasets.load_diabetes()\n",
    "    # Use only one feature\n",
    "    diabetes_X = diabetes.data[:, np.newaxis, 2]\n",
    "\n",
    "    # Split the data into training/testing sets\n",
    "    diabetes_X_train = diabetes_X[:-20]\n",
    "    diabetes_X_test = diabetes_X[-20:]\n",
    "\n",
    "    # Split the targets into training/testing sets\n",
    "    diabetes_y_train = diabetes.target[:-20]\n",
    "    diabetes_y_test = diabetes.target[-20:]\n",
    "    return diabetes_X_train, diabetes_X_test, diabetes_y_train, diabetes_y_test"
   ]
  },
  {
   "cell_type": "code",
   "execution_count": 115,
   "metadata": {},
   "outputs": [],
   "source": [
    "def regression(train_x, train_y, test_x, test_y):\n",
    "    lr = LinearRegression(learning_rate=0.01, epochs=100000, verbose=False)\n",
    "    lr.train(train_x, train_y)\n",
    "    pre_y = lr.predict(test_x)\n",
    "    \n",
    "    print('Coefficients: \\n', lr.theta, lr.b)\n",
    "    # The mean squared error\n",
    "    print(\"Mean squared error: %.2f\"\n",
    "      % mean_squared_error(test_y, pre_y))\n",
    "    # Explained variance score: 1 is perfect prediction\n",
    "    print('Variance score: %.2f' % r2_score(test_y, pre_y))\n",
    "    \n",
    "    plt.scatter(test_x, test_y, c = 'k', label='data')\n",
    "    plt.plot(test_x, pre_y, c='g', label='prediction', linewidth=3)\n",
    "    plt.legend()"
   ]
  },
  {
   "cell_type": "code",
   "execution_count": 116,
   "metadata": {},
   "outputs": [],
   "source": [
    "def regression_sklearn(train_x, train_y, test_x, test_y):\n",
    "    lr = linear_model.LinearRegression()\n",
    "    lr.fit(train_x, train_y)\n",
    "    pre_y = lr.predict(test_x)\n",
    "    \n",
    "    print('Coefficients: \\n', lr.coef_)\n",
    "    # The mean squared error\n",
    "    print(\"Mean squared error: %.2f\"\n",
    "      % mean_squared_error(test_y, pre_y))\n",
    "    # Explained variance score: 1 is perfect prediction\n",
    "    print('Variance score: %.2f' % r2_score(test_y, pre_y))\n",
    "    \n",
    "    plt.scatter(test_x, test_y, c = 'k', label='data')\n",
    "    plt.plot(test_x, pre_y, c='g', label='prediction', linewidth=3)\n",
    "    plt.legend() "
   ]
  },
  {
   "cell_type": "code",
   "execution_count": 117,
   "metadata": {},
   "outputs": [],
   "source": [
    "train_x, test_x, train_y, test_y = load_data()"
   ]
  },
  {
   "cell_type": "code",
   "execution_count": 118,
   "metadata": {},
   "outputs": [
    {
     "name": "stdout",
     "output_type": "stream",
     "text": [
      "('Coefficients: \\n', array([[ 840.79809527]]), array([ 152.96504617]))\n",
      "Mean squared error: 2679.87\n",
      "Variance score: 0.45\n"
     ]
    },
    {
     "data": {
      "image/png": "[encoded data removed]",
      "text/plain": [
       "<Figure size 432x288 with 1 Axes>"
      ]
     },
     "metadata": {},
     "output_type": "display_data"
    }
   ],
   "source": [
    "regression(train_x, train_y, test_x, test_y)"
   ]
  },
  {
   "cell_type": "code",
   "execution_count": 119,
   "metadata": {},
   "outputs": [
    {
     "name": "stdout",
     "output_type": "stream",
     "text": [
      "('Coefficients: \\n', array([ 938.23786125]))\n",
      "Mean squared error: 2548.07\n",
      "Variance score: 0.47\n"
     ]
    },
    {
     "data": {
      "image/png": "[encoded data removed]",
      "text/plain": [
       "<Figure size 432x288 with 1 Axes>"
      ]
     },
     "metadata": {},
     "output_type": "display_data"
    }
   ],
   "source": [
    "regression_sklearn(train_x, train_y, test_x, test_y)"
   ]
  },
  {
   "cell_type": "code",
   "execution_count": null,
   "metadata": {},
   "outputs": [],
   "source": []
  }
 ],
 "metadata": {
  "kernelspec": {
   "display_name": "Python 2",
   "language": "python",
   "name": "python2"
  },
  "language_info": {
   "codemirror_mode": {
    "name": "ipython",
    "version": 2
   },
   "file_extension": ".py",
   "mimetype": "text/x-python",
   "name": "python",
   "nbconvert_exporter": "python",
   "pygments_lexer": "ipython2",
   "version": "2.7.15"
  }
 },
 "nbformat": 4,
 "nbformat_minor": 2
}
