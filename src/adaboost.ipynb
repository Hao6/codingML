{
 "cells": [
  {
   "cell_type": "markdown",
   "metadata": {},
   "source": [
    "# Adaboost \n",
    "- 以决策树桩(单层决策树)作为基分类器的Adaboost"
   ]
  },
  {
   "cell_type": "code",
   "execution_count": 1,
   "metadata": {},
   "outputs": [],
   "source": [
    "import numpy as np\n",
    "import matplotlib.pyplot as plt"
   ]
  },
  {
   "cell_type": "code",
   "execution_count": 2,
   "metadata": {},
   "outputs": [],
   "source": [
    "%matplotlib inline"
   ]
  },
  {
   "cell_type": "markdown",
   "metadata": {},
   "source": [
    "## Decesion tree stump(决策树桩) \n",
    "- 决策树桩算法，即只有一层的决策树，即只选择一个属性进行划分；无疑，决策树桩是一个弱学习器\n",
    "- 在本文中实现的决策树桩算法是基于属性值为连续值这一假设进行设计的，具体算法如下\n",
    "  1. 遍历训练数据的所有属性，分别对每一属性值的属性区间按照一定步长进行分割；\n",
    "  2. 在每一个分割点，分别 设置小于等于分割点的一侧，记为“左边”与大于分割点的一侧，记为“右边”，分别设置左边为正类(+1)或负类(-1)\n",
    "  3. 使用训练数据选择最优的一个包括**属性值、属性分割点、“左边为正类或负类”**的三元组，作为模型输出，其中最优的标准是训练数据在该选择下具有最小的错误率  \n",
    "  \n",
    "- 下图是一个具体的例子，展示了作为一个弱学习器，决策树桩无论如何也不能在该数据集上达到百分之百的训练准确率\n",
    "- (Decesion tree stump)决策树桩实际上是只有一层的CART树"
   ]
  },
  {
   "cell_type": "code",
   "execution_count": 67,
   "metadata": {},
   "outputs": [],
   "source": [
    "class stump_classify:\n",
    "    def __init__(self, train_X, train_y, valid_X=None, valid_y=None):\n",
    "        \"\"\"\n",
    "        type train_X:[[]]\n",
    "        type train_y:[]\n",
    "        type valid_X:[[]]\n",
    "        type valid_y:[]\n",
    "        \"\"\"\n",
    "        self.train_X = train_X\n",
    "        self.train_y = train_y\n",
    "        self.valid_X = valid_X\n",
    "        self.valid_y = valid_y\n",
    "\n",
    "    def fit(self, num_steps, wrong_wei):\n",
    "        \"\"\"\n",
    "        type num_steps:int, 属性值空间的划分次数\n",
    "        type wrong_wei:[float], 每条数据对应的权重\n",
    "        \"\"\"\n",
    "        m, n = self.train_X.shape\n",
    "        thread_ineqs = [\"left_true\", \"right_true\"]\n",
    "        min_error = float(\"inf\")\n",
    "        parameter_dic = {}\n",
    "        for i in range(n):\n",
    "            cur_dimen_min = self.train_X[:, i].min()\n",
    "            cur_dimen_max = self.train_X[:, i].max()\n",
    "            thread_range = cur_dimen_max - cur_dimen_min  # 当前属性的值区间\n",
    "            for thread_val in np.linspace(cur_dimen_min, cur_dimen_max, num_steps):\n",
    "                for thread_ineq in thread_ineqs:\n",
    "                    pre = self.predict(dimen=i, thread_val=thread_val, thread_ineq=thread_ineq, \\\n",
    "                                       test_X=self.train_X)\n",
    "                    cur_score = self.evaluate(self.train_y, pre, wrong_wei)\n",
    "                    if cur_score < min_error:\n",
    "                        min_error = cur_score\n",
    "                        parameter_dic['dimen'] = i\n",
    "                        parameter_dic['thread_val'] = thread_val\n",
    "                        parameter_dic['thread_ineq'] = thread_ineq\n",
    "        return parameter_dic\n",
    "\n",
    "    # 三个参数可以看做是学习得到的三个参数，最终的模型也是使用这三个参数来表示的\n",
    "    def predict(self, dimen, thread_val, thread_ineq, test_X):\n",
    "        \"\"\"\n",
    "        type dimen:int, 使用哪个维度作为划分属性\n",
    "        type thread_val:float, 使用 dimen>thread_val 与 dimen<=thread_val 划分为两部分\n",
    "        type thread_ineq:str, 表明 dimen>thread_val 属于那个类别\n",
    "        rtype [], 预测结果\n",
    "        \"\"\"\n",
    "        m, _ = test_X.shape\n",
    "        pre = np.ones(m)\n",
    "        if thread_ineq == \"left_true\":\n",
    "            pre[test_X[:, dimen] <= thread_val] = -1\n",
    "        else:\n",
    "            pre[test_X[:, dimen] > thread_val] = -1\n",
    "        return pre\n",
    "\n",
    "    def evaluate(self, test_y, pre, wrong_wei, score=None):\n",
    "        if score == None:\n",
    "            return np.sum((test_y != pre).astype(int) * wrong_wei)  # 默认以加权错误分类数作为评价指标\n",
    "        else:\n",
    "            return score(test_y, pre)"
   ]
  },
  {
   "cell_type": "markdown",
   "metadata": {},
   "source": [
    "### 测试 stump-tree(决策树桩) "
   ]
  },
  {
   "cell_type": "code",
   "execution_count": 4,
   "metadata": {},
   "outputs": [],
   "source": [
    "def load_simple_data():\n",
    "    data = np.array(\n",
    "        [[1, 2.1],\n",
    "         [2, 1.1],\n",
    "         [1.3, 1],\n",
    "         [1, 1],\n",
    "         [2, 1]])\n",
    "    label = np.array([1, 1, 0, 0, 1])\n",
    "    return (data, label)"
   ]
  },
  {
   "cell_type": "code",
   "execution_count": 5,
   "metadata": {},
   "outputs": [],
   "source": [
    "x, y = load_simple_data()"
   ]
  },
  {
   "cell_type": "code",
   "execution_count": 6,
   "metadata": {},
   "outputs": [],
   "source": [
    "stump = stump_classify(x, y)"
   ]
  },
  {
   "cell_type": "code",
   "execution_count": 7,
   "metadata": {},
   "outputs": [],
   "source": [
    "para = stump.fit(5, np.ones(len(x)))"
   ]
  },
  {
   "cell_type": "code",
   "execution_count": 8,
   "metadata": {},
   "outputs": [
    {
     "data": {
      "text/plain": [
       "array([ 0.,  1.,  0.,  0.,  1.])"
      ]
     },
     "execution_count": 8,
     "metadata": {},
     "output_type": "execute_result"
    }
   ],
   "source": [
    "stump.predict(test_X=x, **para)"
   ]
  },
  {
   "cell_type": "code",
   "execution_count": 9,
   "metadata": {},
   "outputs": [
    {
     "name": "stdout",
     "output_type": "stream",
     "text": [
      "{'dimen': 0, 'thread_ineq': 'right_true', 'thread_val': 1.5}\n"
     ]
    }
   ],
   "source": [
    "print para"
   ]
  },
  {
   "cell_type": "code",
   "execution_count": 80,
   "metadata": {},
   "outputs": [
    {
     "data": {
      "image/png": "[encoded data removed]",
      "text/plain": [
       "<matplotlib.figure.Figure at 0x7fe395232650>"
      ]
     },
     "metadata": {},
     "output_type": "display_data"
    }
   ],
   "source": [
    "plt.scatter(x[y == 0,0], x[y==0,1], c='blue', label=\"-1\", marker=\"o\")\n",
    "plt.scatter(x[y == 1,0], x[y==1,1], c='red', label=\"+1\", marker=\"s\")\n",
    "ylim = plt.ylim()\n",
    "plt.plot([para['thread_val'],para['thread_val']],ylim, label=para['thread_ineq'])\n",
    "plt.legend()\n",
    "plt.grid()\n",
    "plt.savefig('stump.png')"
   ]
  },
  {
   "cell_type": "markdown",
   "metadata": {},
   "source": [
    "***蓝色直线表示右边部分被分类为正类，左边被分类为负类,即使是单阶段最优的决策树桩也无法完全区分如上图分布的样本，通过AdaBoost算法则可以做到***"
   ]
  },
  {
   "cell_type": "markdown",
   "metadata": {},
   "source": [
    "## AdaBoost(adaptive boost) 算法 \n",
    "1. 为每个训练样本初始化相同的权重，方便起见，将其记为向量 $W$\n",
    "2. 开始一轮训练，在本轮训练完成后，判断是否达到迭代次数阈值或者错误率已经达到阈值，如果是，则输出模型，结束训练，否则转3\n",
    "3. 根据本轮训练模型在训练集上的表现，更新 $W$，转到2  \n",
    "\n",
    "\n",
    "- 上述的三个步骤中，第三步的权重更新规则的制定是最为关键的，一般的算法如下：\n",
    "\n",
    "\n",
    "1. 定义错误分类数 $\\epsilon = \\frac{未正确分类的样本数目}{全部样本数目}$  \n",
    "2. 定义权重因子 $\\alpha = \\frac{1}{2}\\ln {\\frac{1-\\epsilon}{\\epsilon}}$\n",
    "3. 定义权重向量更新规则  \n",
    "  - 如果样本 $W_{i}$第 $t$ 轮被正确分类，则 $W_{i}^{t+1} = \\frac{W_{i}^{t}\\exp (-\\alpha)}{\\sum{W}}$   \n",
    "  \n",
    "  - 如果样本 $W_{i}$第 $t$ 轮被错误分类，则 $W_{i}^{t+1} = \\frac{W_{i}^{t}\\exp (\\alpha)}{\\sum{W}}$ "
   ]
  },
  {
   "cell_type": "markdown",
   "metadata": {},
   "source": [
    "## 基于弱分类器(decison stump)的强分类器(AdaBoost) "
   ]
  },
  {
   "cell_type": "code",
   "execution_count": 68,
   "metadata": {},
   "outputs": [],
   "source": [
    "def adaboost_stump(train_x, train_y, epochs=40, error_rate_bound=0.0):\n",
    "    \"\"\"\n",
    "    type train_x   :[[]]\n",
    "    type train_y   :[[]]\n",
    "    type epochs    :int\n",
    "    type error_rate:float\n",
    "    \"\"\"\n",
    "    weak_classifier_arr = []  # 用来存放每轮的弱分类器\n",
    "    m, _ = train_x.shape\n",
    "    wrong_weight = np.ones(m, dtype=np.float32) / m  # 初始权重向量\n",
    "    error_rate_arr = []  # 方便观察错误率的变化\n",
    "    agg_class_est = np.ones(m)\n",
    "    for i in range(epochs):\n",
    "        weak_classifier = stump_classify(train_x, train_y)\n",
    "        weak_model = weak_classifier.fit(10.0, wrong_weight)\n",
    "        weak_classifier_arr.append(weak_model)\n",
    "        pre = weak_classifier.predict(test_X=train_x, **weak_model)\n",
    "        error_rate = weak_classifier.evaluate(train_y, pre, wrong_weight)  # 加权错误数\n",
    "\n",
    "        alpha = 0.5 * np.log((1 - error_rate) / max(error_rate,1e-16))  # 防止出现除数为0的异常\n",
    "\n",
    "        # 更新权重向量\n",
    "        wrong_weight *= np.exp(-pre * train_y * alpha)\n",
    "        wrong_weight = wrong_weight / np.sum(wrong_weight)  # 归一化处理\n",
    "\n",
    "        weak_model['alpha'] = alpha\n",
    "        agg_class_est += alpha*pre  # 加权估计器的预测结果\n",
    "\n",
    "        # 本轮及本轮之前所有弱分类器的加权平均估计错误率\n",
    "        agg_error_rate = np.sum((np.sign(agg_class_est) != train_y).astype(int))/float(m)\n",
    "\n",
    "        error_rate_arr.append(agg_error_rate)\n",
    "        if agg_error_rate <= error_rate_bound:\n",
    "            break\n",
    "    return (weak_classifier_arr, error_rate_arr)"
   ]
  },
  {
   "cell_type": "code",
   "execution_count": 75,
   "metadata": {},
   "outputs": [],
   "source": [
    "def adaboost_stump_predict(weak_classifier, test_x):\n",
    "    pre = np.zeros(test_x.shape[0])\n",
    "    for item in weak_classifier:\n",
    "        stump_tree = stump_classify(train_X=None, train_y=None)\n",
    "        cur_pre = stump_tree.predict(dimen=item['dimen'], thread_val=item['thread_val'], \\\n",
    "                           thread_ineq=item['thread_ineq'], test_X=test_x)\n",
    "        pre += cur_pre*item['alpha']\n",
    "    return np.sign(pre)"
   ]
  },
  {
   "cell_type": "markdown",
   "metadata": {},
   "source": [
    "## 测试基于 Decesion tree stump(决策树桩)的AdaBoost算法"
   ]
  },
  {
   "cell_type": "markdown",
   "metadata": {},
   "source": [
    "### 导入 breast_canser 数据集 "
   ]
  },
  {
   "cell_type": "code",
   "execution_count": 38,
   "metadata": {},
   "outputs": [],
   "source": [
    "from sklearn.datasets import load_breast_cancer\n",
    "datas = load_breast_cancer()"
   ]
  },
  {
   "cell_type": "code",
   "execution_count": 39,
   "metadata": {},
   "outputs": [],
   "source": [
    "datas_x = datas.data\n",
    "datas_y = datas.target"
   ]
  },
  {
   "cell_type": "code",
   "execution_count": 40,
   "metadata": {},
   "outputs": [
    {
     "name": "stdout",
     "output_type": "stream",
     "text": [
      "(569, 30)\n"
     ]
    }
   ],
   "source": [
    "print datas_x.shape"
   ]
  },
  {
   "cell_type": "code",
   "execution_count": 42,
   "metadata": {},
   "outputs": [
    {
     "data": {
      "text/plain": [
       "-1"
      ]
     },
     "execution_count": 42,
     "metadata": {},
     "output_type": "execute_result"
    }
   ],
   "source": [
    "datas_y[datas_y == 0] = -1\n",
    "datas_y.min()"
   ]
  },
  {
   "cell_type": "code",
   "execution_count": 43,
   "metadata": {},
   "outputs": [],
   "source": [
    "from sklearn.decomposition import pca"
   ]
  },
  {
   "cell_type": "code",
   "execution_count": 49,
   "metadata": {},
   "outputs": [],
   "source": [
    "bre_can_pca = pca.PCA(n_components=2)"
   ]
  },
  {
   "cell_type": "code",
   "execution_count": 50,
   "metadata": {},
   "outputs": [
    {
     "data": {
      "text/plain": [
       "PCA(copy=True, iterated_power='auto', n_components=2, random_state=None,\n",
       "  svd_solver='auto', tol=0.0, whiten=False)"
      ]
     },
     "execution_count": 50,
     "metadata": {},
     "output_type": "execute_result"
    }
   ],
   "source": [
    "bre_can_pca.fit(datas_x)"
   ]
  },
  {
   "cell_type": "code",
   "execution_count": 51,
   "metadata": {},
   "outputs": [
    {
     "data": {
      "text/plain": [
       "(569, 2)"
      ]
     },
     "execution_count": 51,
     "metadata": {},
     "output_type": "execute_result"
    }
   ],
   "source": [
    "bre_can_2d = bre_can_pca.transform(datas_x)\n",
    "bre_can_2d.shape"
   ]
  },
  {
   "cell_type": "code",
   "execution_count": 53,
   "metadata": {},
   "outputs": [],
   "source": [
    "positive_x = bre_can_2d[datas_y == 1]\n",
    "negative_x = bre_can_2d[datas_y == -1]"
   ]
  },
  {
   "cell_type": "code",
   "execution_count": 54,
   "metadata": {},
   "outputs": [
    {
     "name": "stdout",
     "output_type": "stream",
     "text": [
      "(357, 2)\n",
      "(212, 2)\n"
     ]
    }
   ],
   "source": [
    "print positive_x.shape\n",
    "print negative_x.shape"
   ]
  },
  {
   "cell_type": "code",
   "execution_count": 82,
   "metadata": {},
   "outputs": [
    {
     "data": {
      "image/png": "[encoded data removed]",
      "text/plain": [
       "<matplotlib.figure.Figure at 0x7fe3952420d0>"
      ]
     },
     "metadata": {},
     "output_type": "display_data"
    }
   ],
   "source": [
    "fig = plt.figure(figsize=(12,7))\n",
    "plt.scatter(positive_x[:,0], positive_x[:,1], c=\"red\", label=\"+1\", alpha=0.4)\n",
    "plt.scatter(negative_x[:,0], negative_x[:,1], c=\"blue\", label=\"-1\", alpha=0.5)\n",
    "plt.legend()\n",
    "plt.savefig('distribution.png')"
   ]
  },
  {
   "cell_type": "markdown",
   "metadata": {},
   "source": [
    "### 将 breast_cancer 数据集随机分割 "
   ]
  },
  {
   "cell_type": "code",
   "execution_count": 63,
   "metadata": {},
   "outputs": [],
   "source": [
    "from sklearn.model_selection import train_test_split"
   ]
  },
  {
   "cell_type": "code",
   "execution_count": 64,
   "metadata": {},
   "outputs": [],
   "source": [
    "train_x, test_x, train_y, test_y = train_test_split(datas_x, datas_y, test_size=0.3)"
   ]
  },
  {
   "cell_type": "code",
   "execution_count": 65,
   "metadata": {},
   "outputs": [
    {
     "name": "stdout",
     "output_type": "stream",
     "text": [
      "(398, 30)\n",
      "(171, 30)\n"
     ]
    }
   ],
   "source": [
    "print train_x.shape\n",
    "print test_x.shape"
   ]
  },
  {
   "cell_type": "markdown",
   "metadata": {},
   "source": [
    "### 训练AdaBoost模型 "
   ]
  },
  {
   "cell_type": "code",
   "execution_count": 69,
   "metadata": {},
   "outputs": [],
   "source": [
    "week_classifiers, error_rates = adaboost_stump(train_x, train_y)"
   ]
  },
  {
   "cell_type": "code",
   "execution_count": 70,
   "metadata": {},
   "outputs": [
    {
     "data": {
      "text/plain": [
       "[{'alpha': 1.2356873275921554,\n",
       "  'dimen': 22,\n",
       "  'thread_ineq': 'right_true',\n",
       "  'thread_val': 110.04000000000001},\n",
       " {'alpha': 0.88388242671555195,\n",
       "  'dimen': 7,\n",
       "  'thread_ineq': 'right_true',\n",
       "  'thread_val': 0.042511111111111111},\n",
       " {'alpha': 0.64124830787319442,\n",
       "  'dimen': 1,\n",
       "  'thread_ineq': 'right_true',\n",
       "  'thread_val': 19.56666666666667},\n",
       " {'alpha': 0.54168801089118945,\n",
       "  'dimen': 10,\n",
       "  'thread_ineq': 'right_true',\n",
       "  'thread_val': 0.42091111111111118},\n",
       " {'alpha': 0.45963716676423921,\n",
       "  'dimen': 21,\n",
       "  'thread_ineq': 'right_true',\n",
       "  'thread_val': 19.828888888888891},\n",
       " {'alpha': 0.66469094441888255,\n",
       "  'dimen': 27,\n",
       "  'thread_ineq': 'right_true',\n",
       "  'thread_val': 0.16166666666666665},\n",
       " {'alpha': 0.43175216406546546,\n",
       "  'dimen': 18,\n",
       "  'thread_ineq': 'left_true',\n",
       "  'thread_val': 0.015778444444444446},\n",
       " {'alpha': 0.45998830291161702,\n",
       "  'dimen': 17,\n",
       "  'thread_ineq': 'right_true',\n",
       "  'thread_val': 0.011731111111111111},\n",
       " {'alpha': 0.36582677161420396,\n",
       "  'dimen': 21,\n",
       "  'thread_ineq': 'right_true',\n",
       "  'thread_val': 19.828888888888891},\n",
       " {'alpha': 0.40633715186416297,\n",
       "  'dimen': 23,\n",
       "  'thread_ineq': 'right_true',\n",
       "  'thread_val': 906.71111111111122},\n",
       " {'alpha': 0.31270873160108836,\n",
       "  'dimen': 4,\n",
       "  'thread_ineq': 'right_true',\n",
       "  'thread_val': 0.089553333333333318},\n",
       " {'alpha': 0.29716857276907621,\n",
       "  'dimen': 28,\n",
       "  'thread_ineq': 'right_true',\n",
       "  'thread_val': 0.3256},\n",
       " {'alpha': 0.39390217716392734,\n",
       "  'dimen': 23,\n",
       "  'thread_ineq': 'right_true',\n",
       "  'thread_val': 545.95555555555552},\n",
       " {'alpha': 0.30402771802136103,\n",
       "  'dimen': 15,\n",
       "  'thread_ineq': 'left_true',\n",
       "  'thread_val': 0.013179555555555555},\n",
       " {'alpha': 0.32484271369095385,\n",
       "  'dimen': 27,\n",
       "  'thread_ineq': 'right_true',\n",
       "  'thread_val': 0.12933333333333333},\n",
       " {'alpha': 0.2912860180404524,\n",
       "  'dimen': 21,\n",
       "  'thread_ineq': 'right_true',\n",
       "  'thread_val': 19.828888888888891},\n",
       " {'alpha': 0.29608151503175473,\n",
       "  'dimen': 9,\n",
       "  'thread_ineq': 'left_true',\n",
       "  'thread_val': 0.055484444444444447},\n",
       " {'alpha': 0.27465276368048863,\n",
       "  'dimen': 26,\n",
       "  'thread_ineq': 'right_true',\n",
       "  'thread_val': 0.2782222222222222},\n",
       " {'alpha': 0.25879734222921963,\n",
       "  'dimen': 15,\n",
       "  'thread_ineq': 'left_true',\n",
       "  'thread_val': 0.045962222222222217},\n",
       " {'alpha': 0.27173686161272698,\n",
       "  'dimen': 15,\n",
       "  'thread_ineq': 'left_true',\n",
       "  'thread_val': 0.013179555555555555},\n",
       " {'alpha': 0.24138394128517118,\n",
       "  'dimen': 8,\n",
       "  'thread_ineq': 'right_true',\n",
       "  'thread_val': 0.14999999999999999},\n",
       " {'alpha': 0.31905639283589071,\n",
       "  'dimen': 7,\n",
       "  'thread_ineq': 'right_true',\n",
       "  'thread_val': 0.063766666666666666},\n",
       " {'alpha': 0.21128797623269036,\n",
       "  'dimen': 8,\n",
       "  'thread_ineq': 'right_true',\n",
       "  'thread_val': 0.14999999999999999},\n",
       " {'alpha': 0.25636357291087375,\n",
       "  'dimen': 29,\n",
       "  'thread_ineq': 'left_true',\n",
       "  'thread_val': 0.071979999999999988},\n",
       " {'alpha': 0.29753650287192529,\n",
       "  'dimen': 24,\n",
       "  'thread_ineq': 'right_true',\n",
       "  'thread_val': 0.13660555555555556},\n",
       " {'alpha': 0.2174108739949091,\n",
       "  'dimen': 1,\n",
       "  'thread_ineq': 'right_true',\n",
       "  'thread_val': 19.56666666666667},\n",
       " {'alpha': 0.2286589304494443,\n",
       "  'dimen': 7,\n",
       "  'thread_ineq': 'right_true',\n",
       "  'thread_val': 0.021255555555555555},\n",
       " {'alpha': 0.25368126582944267,\n",
       "  'dimen': 28,\n",
       "  'thread_ineq': 'left_true',\n",
       "  'thread_val': 0.21286666666666665},\n",
       " {'alpha': 0.21520014328568698,\n",
       "  'dimen': 28,\n",
       "  'thread_ineq': 'right_true',\n",
       "  'thread_val': 0.26923333333333332},\n",
       " {'alpha': 0.25040298885345064,\n",
       "  'dimen': 8,\n",
       "  'thread_ineq': 'left_true',\n",
       "  'thread_val': 0.17199999999999999},\n",
       " {'alpha': 0.23625592522476069,\n",
       "  'dimen': 15,\n",
       "  'thread_ineq': 'left_true',\n",
       "  'thread_val': 0.045962222222222217},\n",
       " {'alpha': 0.27051907671039105,\n",
       "  'dimen': 6,\n",
       "  'thread_ineq': 'right_true',\n",
       "  'thread_val': 0.094755555555555551},\n",
       " {'alpha': 0.25143931530003255,\n",
       "  'dimen': 15,\n",
       "  'thread_ineq': 'left_true',\n",
       "  'thread_val': 0.02410711111111111},\n",
       " {'alpha': 0.22173699320000434,\n",
       "  'dimen': 21,\n",
       "  'thread_ineq': 'right_true',\n",
       "  'thread_val': 27.637777777777778},\n",
       " {'alpha': 0.24589472362589751,\n",
       "  'dimen': 23,\n",
       "  'thread_ineq': 'right_true',\n",
       "  'thread_val': 906.71111111111122},\n",
       " {'alpha': 0.28295951527748114,\n",
       "  'dimen': 8,\n",
       "  'thread_ineq': 'right_true',\n",
       "  'thread_val': 0.14999999999999999},\n",
       " {'alpha': 0.27357916744996502,\n",
       "  'dimen': 28,\n",
       "  'thread_ineq': 'right_true',\n",
       "  'thread_val': 0.3256},\n",
       " {'alpha': 0.21163506973451507,\n",
       "  'dimen': 4,\n",
       "  'thread_ineq': 'right_true',\n",
       "  'thread_val': 0.089553333333333318},\n",
       " {'alpha': 0.21373936936612087,\n",
       "  'dimen': 9,\n",
       "  'thread_ineq': 'left_true',\n",
       "  'thread_val': 0.055484444444444447},\n",
       " {'alpha': 0.23537809140551968,\n",
       "  'dimen': 23,\n",
       "  'thread_ineq': 'right_true',\n",
       "  'thread_val': 545.95555555555552}]"
      ]
     },
     "execution_count": 70,
     "metadata": {},
     "output_type": "execute_result"
    }
   ],
   "source": [
    "week_classifiers"
   ]
  },
  {
   "cell_type": "code",
   "execution_count": 76,
   "metadata": {},
   "outputs": [],
   "source": [
    "pre = adaboost_stump_predict(weak_classifier=week_classifiers, test_x=test_x)"
   ]
  },
  {
   "cell_type": "code",
   "execution_count": 77,
   "metadata": {},
   "outputs": [],
   "source": [
    "from sklearn.metrics import accuracy_score,confusion_matrix"
   ]
  },
  {
   "cell_type": "code",
   "execution_count": 78,
   "metadata": {},
   "outputs": [
    {
     "data": {
      "text/plain": [
       "0.96491228070175439"
      ]
     },
     "execution_count": 78,
     "metadata": {},
     "output_type": "execute_result"
    }
   ],
   "source": [
    "accuracy_score(y_pred=pre, y_true=test_y)"
   ]
  },
  {
   "cell_type": "code",
   "execution_count": 79,
   "metadata": {},
   "outputs": [
    {
     "data": {
      "text/plain": [
       "array([[68,  3],\n",
       "       [ 3, 97]])"
      ]
     },
     "execution_count": 79,
     "metadata": {},
     "output_type": "execute_result"
    }
   ],
   "source": [
    "confusion_matrix(y_pred=pre, y_true=test_y)"
   ]
  },
  {
   "cell_type": "code",
   "execution_count": null,
   "metadata": {},
   "outputs": [],
   "source": []
  }
 ],
 "metadata": {
  "kernelspec": {
   "display_name": "Python 2",
   "language": "python",
   "name": "python2"
  },
  "language_info": {
   "codemirror_mode": {
    "name": "ipython",
    "version": 2
   },
   "file_extension": ".py",
   "mimetype": "text/x-python",
   "name": "python",
   "nbconvert_exporter": "python",
   "pygments_lexer": "ipython2",
   "version": "2.7.15"
  }
 },
 "nbformat": 4,
 "nbformat_minor": 2
}
