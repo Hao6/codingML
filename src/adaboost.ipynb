{
 "cells": [
  {
   "cell_type": "markdown",
   "metadata": {},
   "source": [
    "# Adaboost \n",
    "- 以决策树桩(单层决策树)作为基分类器的Adaboost"
   ]
  },
  {
   "cell_type": "code",
   "execution_count": 25,
   "metadata": {},
   "outputs": [],
   "source": [
    "import numpy as np\n",
    "import matplotlib.pyplot as plt"
   ]
  },
  {
   "cell_type": "code",
   "execution_count": 26,
   "metadata": {},
   "outputs": [],
   "source": [
    "%matplotlib inline"
   ]
  },
  {
   "cell_type": "markdown",
   "metadata": {},
   "source": [
    "## Decesion tree stump(决策树桩) "
   ]
  },
  {
   "cell_type": "code",
   "execution_count": 18,
   "metadata": {},
   "outputs": [],
   "source": [
    "class stump_classify:\n",
    "    def __init__(self, train_X, train_y, valid_X = None, valid_y = None):\n",
    "        \"\"\"\n",
    "        type train_X:[[]]\n",
    "        type train_y:[]\n",
    "        type valid_X:[[]]\n",
    "        type valid_y:[]\n",
    "        \"\"\"\n",
    "        self.train_X = train_X\n",
    "        self.train_y = train_y\n",
    "        self.valid_X = valid_X\n",
    "        self.valid_y = valid_y\n",
    "    def fit(self, num_steps, wrong_wei):\n",
    "        \"\"\"\n",
    "        type num_steps:int, 属性值空间的划分次数\n",
    "        \"\"\"\n",
    "        m , n = self.train_X.shape\n",
    "        thread_ineqs = [\"left_true\",\"right_true\"]\n",
    "        max_score = -float(\"inf\")\n",
    "        parameter_dic = {}\n",
    "        for i in range(n):\n",
    "            cur_dimen_min = self.train_X[:,i].min()\n",
    "            cur_dimen_max = self.train_X[:,i].max()\n",
    "            thread_range = cur_dimen_max - cur_dimen_min # 当前属性的值区间\n",
    "            for thread_val in np.linspace(cur_dimen_min,cur_dimen_max,num_steps):\n",
    "                for thread_ineq in thread_ineqs:\n",
    "                    pre = self.predict(dimen=i, thread_val=thread_val, thread_ineq= thread_ineq,\\\n",
    "                                       test_X=self.train_X)\n",
    "                    cur_score = self.evaluate(self.train_y, pre)\n",
    "                    if cur_score > max_score:\n",
    "                        max_score = cur_score\n",
    "                        parameter_dic['dimen'] = i\n",
    "                        parameter_dic['thread_val'] = thread_val\n",
    "                        parameter_dic['thread_ineq'] = thread_ineq\n",
    "        return parameter_dic\n",
    "    \n",
    "    # 三个参数可以看做是学习得到的三个参数，最终的模型也是使用这三个参数来表示的\n",
    "    def predict(self, dimen, thread_val, thread_ineq, test_X):\n",
    "        \"\"\"\n",
    "        type dimen:int, 使用哪个维度作为划分属性\n",
    "        type thread_val:float, 使用 dimen>thread_val 与 dimen<=thread_val 划分为两部分\n",
    "        type thread_ineq:str, 表明 dimen>thread_val 属于那个类别\n",
    "        rtype [], 预测结果\n",
    "        \"\"\"\n",
    "        m, _ = test_X.shape\n",
    "        pre = np.zeros(m)\n",
    "        if thread_ineq == \"left_true\":\n",
    "            pre[test_X[:, dimen] < thread_val] = 1\n",
    "        else:\n",
    "            pre[test_X[:, dimen] >= thread_val] = 1\n",
    "        return pre\n",
    "    \n",
    "    def evaluate(self, test_y, pre, score=None):\n",
    "        if score == None:\n",
    "            return float(np.sum(test_y == pre)) / len(test_y) # 默认以准确率作为评价指标\n",
    "        else:\n",
    "            return score(test_y, pre)"
   ]
  },
  {
   "cell_type": "markdown",
   "metadata": {},
   "source": [
    "### 测试 stump-tree(决策树桩) "
   ]
  },
  {
   "cell_type": "code",
   "execution_count": 19,
   "metadata": {},
   "outputs": [],
   "source": [
    "def load_simple_data():\n",
    "    data = np.array(\n",
    "        [[1, 2.1],\n",
    "         [2, 1.1],\n",
    "         [1.3, 1],\n",
    "         [1, 1],\n",
    "         [2, 1]])\n",
    "    label = np.array([1, 1, 0, 0, 1])\n",
    "    return (data, label)"
   ]
  },
  {
   "cell_type": "code",
   "execution_count": 20,
   "metadata": {},
   "outputs": [],
   "source": [
    "x, y = load_simple_data()"
   ]
  },
  {
   "cell_type": "code",
   "execution_count": 21,
   "metadata": {},
   "outputs": [],
   "source": [
    "stump = stump_classify(x, y)"
   ]
  },
  {
   "cell_type": "code",
   "execution_count": 22,
   "metadata": {},
   "outputs": [],
   "source": [
    "para = stump.fit(5)"
   ]
  },
  {
   "cell_type": "code",
   "execution_count": 23,
   "metadata": {},
   "outputs": [
    {
     "data": {
      "text/plain": [
       "array([0., 1., 0., 0., 1.])"
      ]
     },
     "execution_count": 23,
     "metadata": {},
     "output_type": "execute_result"
    }
   ],
   "source": [
    "stump.predict(test_X=x, **para)"
   ]
  },
  {
   "cell_type": "code",
   "execution_count": 24,
   "metadata": {},
   "outputs": [
    {
     "name": "stdout",
     "output_type": "stream",
     "text": [
      "{'dimen': 0, 'thread_ineq': 'right_true', 'thread_val': 1.5}\n"
     ]
    }
   ],
   "source": [
    "print para"
   ]
  },
  {
   "cell_type": "code",
   "execution_count": 34,
   "metadata": {},
   "outputs": [
    {
     "data": {
      "image/png": "[encoded data removed]",
      "text/plain": [
       "<matplotlib.figure.Figure at 0x7ff0cc051590>"
      ]
     },
     "metadata": {},
     "output_type": "display_data"
    }
   ],
   "source": [
    "plt.scatter(x[y == 0,0], x[y==0,1], c='blue', label=\"-1\")\n",
    "plt.scatter(x[y == 1,0], x[y==1,1], c='red', label=\"+1\")\n",
    "ylim = plt.ylim()\n",
    "plt.plot([para['thread_val'],para['thread_val']],ylim, label=para['thread_ineq'])\n",
    "plt.legend()\n",
    "plt.grid()"
   ]
  },
  {
   "cell_type": "markdown",
   "metadata": {},
   "source": [
    "蓝色直线表示右边部分被分类为正类，左边被分类为负类"
   ]
  },
  {
   "cell_type": "code",
   "execution_count": null,
   "metadata": {},
   "outputs": [],
   "source": []
  }
 ],
 "metadata": {
  "kernelspec": {
   "display_name": "Python 2",
   "language": "python",
   "name": "python2"
  },
  "language_info": {
   "codemirror_mode": {
    "name": "ipython",
    "version": 2
   },
   "file_extension": ".py",
   "mimetype": "text/x-python",
   "name": "python",
   "nbconvert_exporter": "python",
   "pygments_lexer": "ipython2",
   "version": "2.7.14"
  }
 },
 "nbformat": 4,
 "nbformat_minor": 2
}
