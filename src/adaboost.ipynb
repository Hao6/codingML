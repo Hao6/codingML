{
 "cells": [
  {
   "cell_type": "markdown",
   "metadata": {},
   "source": [
    "# Adaboost \n",
    "- 以决策树桩(单层决策树)作为基分类器的Adaboost"
   ]
  },
  {
   "cell_type": "code",
   "execution_count": 1,
   "metadata": {},
   "outputs": [],
   "source": [
    "import numpy as np\n",
    "import matplotlib.pyplot as plt"
   ]
  },
  {
   "cell_type": "code",
   "execution_count": 2,
   "metadata": {},
   "outputs": [],
   "source": [
    "%matplotlib inline"
   ]
  },
  {
   "cell_type": "markdown",
   "metadata": {},
   "source": [
    "## Decesion tree stump(决策树桩) \n",
    "- 决策树桩算法，即只有一层的决策树，即只选择一个属性进行划分；无疑，决策树桩是一个弱学习器\n",
    "- 在本文中实现的决策树桩算法是基于属性值为连续值这一假设进行设计的，具体算法如下\n",
    "  1. 遍历训练数据的所有属性，分别对每一属性值的属性区间按照一定步长进行分割；\n",
    "  2. 在每一个分割点，分别 设置小于等于分割点的一侧，记为“左边”与大于分割点的一侧，记为“右边”，分别设置左边为正类(+1)或负类(-1)\n",
    "  3. 使用训练数据选择最优的一个包括**属性值、属性分割点、“左边为正类或负类”**的三元组，作为模型输出，其中最优的标准是训练数据在该选择下具有最小的错误率  \n",
    "  \n",
    "- 下图是一个具体的例子，展示了作为一个弱学习器，决策树桩无论如何也不能在该数据集上达到百分之百的训练准确率\n",
    "- (Decesion tree stump)决策树桩实际上是只有一层的CART树"
   ]
  },
  {
   "cell_type": "code",
   "execution_count": 58,
   "metadata": {},
   "outputs": [],
   "source": [
    "class stump_classify:\n",
    "    def __init__(self, train_X, train_y, valid_X=None, valid_y=None):\n",
    "        \"\"\"\n",
    "        type train_X:[[]]\n",
    "        type train_y:[]\n",
    "        type valid_X:[[]]\n",
    "        type valid_y:[]\n",
    "        \"\"\"\n",
    "        self.train_X = train_X\n",
    "        self.train_y = train_y\n",
    "        self.valid_X = valid_X\n",
    "        self.valid_y = valid_y\n",
    "        self.parameter_dic = {}\n",
    "        self.wrong_wei = None\n",
    "        \n",
    "    def __predict(self, dimen, thread_val, thread_ineq, x):\n",
    "        m, _ = x.shape\n",
    "        pre = np.ones(m)\n",
    "        if thread_ineq == \"left_true\":\n",
    "            pre[x[:, dimen] <= thread_val] = -1\n",
    "        else:\n",
    "            pre[x[:, dimen] > thread_val] = -1\n",
    "        return pre\n",
    "\n",
    "    def fit(self, num_steps, wrong_wei = None):\n",
    "        \"\"\"\n",
    "        type num_steps:int, 属性值空间的划分次数\n",
    "        type wrong_wei:[float], 每条数据对应的权重\n",
    "        \"\"\"\n",
    "        m, n = self.train_X.shape\n",
    "        if wrong_wei == None:\n",
    "            self.wrong_wei = np.ones(m) / 1.0\n",
    "        else:\n",
    "            self.wrong_wei = wrong_wei\n",
    "        thread_ineqs = [\"left_true\", \"right_true\"]\n",
    "        min_error = float(\"inf\")\n",
    "        parameter_dic = {}\n",
    "        for i in range(n):\n",
    "            cur_dimen_min = self.train_X[:, i].min()\n",
    "            cur_dimen_max = self.train_X[:, i].max()\n",
    "            thread_range = cur_dimen_max - cur_dimen_min  # 当前属性的值区间\n",
    "            for thread_val in np.linspace(cur_dimen_min, cur_dimen_max, num_steps):\n",
    "                for thread_ineq in thread_ineqs:\n",
    "                    pre = self.__predict(dimen=i, thread_val=thread_val, thread_ineq=thread_ineq, \\\n",
    "                                       x=self.train_X)\n",
    "                    cur_score = self.evaluate(self.train_y, pre)\n",
    "                    if cur_score < min_error:\n",
    "                        min_error = cur_score\n",
    "                        parameter_dic['dimen'] = i\n",
    "                        parameter_dic['thread_val'] = thread_val\n",
    "                        parameter_dic['thread_ineq'] = thread_ineq\n",
    "        self.parameter_dic = parameter_dic\n",
    "\n",
    "    # 三个参数可以看做是学习得到的三个参数，最终的模型也是使用这三个参数来表示的\n",
    "    def predict(self, x):\n",
    "        \"\"\"\n",
    "        type dimen:int, 使用哪个维度作为划分属性\n",
    "        type thread_val:float, 使用 dimen>thread_val 与 dimen<=thread_val 划分为两部分\n",
    "        type thread_ineq:str, 表明 dimen>thread_val 属于那个类别\n",
    "        rtype [], 预测结果\n",
    "        \"\"\"\n",
    "        dimen= self.parameter_dic['dimen']\n",
    "        thread_val = self.parameter_dic['thread_val']\n",
    "        thread_ineq  = self.parameter_dic['thread_ineq']\n",
    "        m, _ = x.shape\n",
    "        pre = np.ones(m)\n",
    "        if thread_ineq == \"left_true\":\n",
    "            pre[x[:, dimen] <= thread_val] = -1\n",
    "        else:\n",
    "            pre[x[:, dimen] > thread_val] = -1\n",
    "        return pre\n",
    "\n",
    "    def evaluate(self, x, y, score=None):\n",
    "        pre = self.predict(x)\n",
    "        if score == None:\n",
    "            return np.sum((y != pre).astype(int) * self.wrong_wei)  # 默认以加权错误分类数作为评价指标\n",
    "        else:\n",
    "            return score(y, pre) # 其他的评估方法"
   ]
  },
  {
   "cell_type": "markdown",
   "metadata": {},
   "source": [
    "### 测试 stump-tree(决策树桩) "
   ]
  },
  {
   "cell_type": "code",
   "execution_count": 47,
   "metadata": {},
   "outputs": [],
   "source": [
    "def load_simple_data():\n",
    "    data = np.array(\n",
    "        [[1, 2.1],\n",
    "         [2, 1.1],\n",
    "         [1.3, 1],\n",
    "         [1, 1],\n",
    "         [2, 1]])\n",
    "    label = np.array([1, 1, 0, 0, 1])\n",
    "    return (data, label)"
   ]
  },
  {
   "cell_type": "code",
   "execution_count": 48,
   "metadata": {},
   "outputs": [],
   "source": [
    "x, y = load_simple_data()"
   ]
  },
  {
   "cell_type": "code",
   "execution_count": 49,
   "metadata": {},
   "outputs": [],
   "source": [
    "stump = stump_classify(x, y)"
   ]
  },
  {
   "cell_type": "code",
   "execution_count": 50,
   "metadata": {},
   "outputs": [],
   "source": [
    "stump.fit(num_steps=5)"
   ]
  },
  {
   "cell_type": "code",
   "execution_count": 54,
   "metadata": {},
   "outputs": [],
   "source": [
    "para = stump.parameter_dic"
   ]
  },
  {
   "cell_type": "code",
   "execution_count": 55,
   "metadata": {},
   "outputs": [],
   "source": [
    "pre = stump.predict(x)"
   ]
  },
  {
   "cell_type": "code",
   "execution_count": 56,
   "metadata": {},
   "outputs": [
    {
     "name": "stdout",
     "output_type": "stream",
     "text": [
      "[1. 1. 1. 1. 1.]\n"
     ]
    }
   ],
   "source": [
    "print pre"
   ]
  },
  {
   "cell_type": "code",
   "execution_count": 57,
   "metadata": {},
   "outputs": [
    {
     "data": {
      "image/png": "[encoded data removed]",
      "text/plain": [
       "<matplotlib.figure.Figure at 0x7f13e72fbc10>"
      ]
     },
     "metadata": {},
     "output_type": "display_data"
    }
   ],
   "source": [
    "plt.scatter(x[y == 0,0], x[y==0,1], c='blue', label=\"-1\", marker=\"o\")\n",
    "plt.scatter(x[y == 1,0], x[y==1,1], c='red', label=\"+1\", marker=\"s\")\n",
    "ylim = plt.ylim()\n",
    "plt.plot([para['thread_val'],para['thread_val']],ylim, label=para['thread_ineq'])\n",
    "plt.legend()\n",
    "plt.grid()\n",
    "# plt.savefig('stump.png')"
   ]
  },
  {
   "cell_type": "markdown",
   "metadata": {},
   "source": [
    "***蓝色直线表示右边部分被分类为正类，左边被分类为负类,即使是单阶段最优的决策树桩也无法完全区分如上图分布的样本，通过AdaBoost算法则可以做到***"
   ]
  },
  {
   "cell_type": "markdown",
   "metadata": {},
   "source": [
    "## AdaBoost(adaptive boost) 算法 \n",
    "1. 为每个训练样本初始化相同的权重，方便起见，将其记为向量 $W$\n",
    "2. 开始一轮训练，在本轮训练完成后，判断是否达到迭代次数阈值或者错误率已经达到阈值，如果是，则输出模型，结束训练，否则转3\n",
    "3. 根据本轮训练模型在训练集上的表现，更新 $W$，转到2  \n",
    "\n",
    "\n",
    "- 上述的三个步骤中，第三步的权重更新规则的制定是最为关键的，一般的算法如下：\n",
    "\n",
    "\n",
    "1. 定义错误分类数 $\\epsilon = \\frac{未正确分类的样本数目}{全部样本数目}$  \n",
    "2. 定义权重因子 $\\alpha = \\frac{1}{2}\\ln {\\frac{1-\\epsilon}{\\epsilon}}$\n",
    "3. 定义权重向量更新规则  \n",
    "  - 如果样本 $W_{i}$第 $t$ 轮被正确分类，则 $W_{i}^{t+1} = \\frac{W_{i}^{t}\\exp (-\\alpha)}{\\sum{W}}$   \n",
    "  \n",
    "  - 如果样本 $W_{i}$第 $t$ 轮被错误分类，则 $W_{i}^{t+1} = \\frac{W_{i}^{t}\\exp (\\alpha)}{\\sum{W}}$ "
   ]
  },
  {
   "cell_type": "markdown",
   "metadata": {},
   "source": [
    "## 基于弱分类器(decison stump)的强分类器(AdaBoost) "
   ]
  },
  {
   "cell_type": "code",
   "execution_count": null,
   "metadata": {},
   "outputs": [],
   "source": [
    "class AdaBoostStump(object):\n",
    "    \"\"\"\n",
    "    Args:\n",
    "        :type num_weak_classifiers, int, 弱分类器的最大数量\n",
    "        :type alpha, ndarray, 每个弱分类器的权重\n",
    "        :weak_classifiers, List[weak_classify]\n",
    "    \"\"\"\n",
    "    def __init__(self, v=1.0, num_weak_classifiers = 20):\n",
    "        self.v = v # 正则化项系数\n",
    "        self.num_weak_classifiers = num_weak_classifiers\n",
    "        self.alpha = np.zeros(self.num_weak_classifiers) # 初始化为0\n",
    "        self.weak_classifiers = []\n",
    "    def fit(self, train_x, train_y):\n",
    "        self.train(train_x, train_y)\n",
    "        \n",
    "    def train(self, train_x, train_y):\n",
    "        m, n = train_x.shape\n",
    "        wrong_weight = np.ones(m, dtype=np.float32) / m  # 初始权重向量\n",
    "        error_rate_arr = []  # 方便观察错误率的变化\n",
    "        agg_class_est = np.ones(m)\n",
    "        for i in range(self.num_weak_classifiers):\n",
    "            weak_classifier = stump_classify(train_x, train_y)\n",
    "            weak_classifier.fit(10.0, wrong_weight)\n",
    "            pre = weak_classifier.predict(train_x)\n",
    "            sita = weak_classifier.evaluate(train_x, train_y)\n",
    "            if sita >= 0.5:\n",
    "                print r'弱分类器太弱'\n",
    "                break\n",
    "            self.weak_classifiers.append(weak_classifier)\n",
    "            alpha = 0.5 * np.log((1 - sita) / max(sita,1e-16))\n",
    "            self.alpha.append(alpha)\n",
    "            # 更新样本权重向量\n",
    "            wrong_weight *= np.exp(-pre * train_y * alpha)\n",
    "            wrong_weight = wrong_weight / np.sum(wrong_weight)  # 归一化处理\n",
    "            \n",
    "#             agg_class_est += alpha*pre  # 加权估计器的预测结果\n",
    "            \n",
    "#             # 本轮及本轮之前所有弱分类器的加权平均估计错误率\n",
    "#             agg_error_rate = np.sum((np.sign(agg_class_est) != train_y).astype(int))/float(m)\n",
    "#             error_rate_arr.append(agg_error_rate)\n",
    "            \n",
    "    \n",
    "    def predict(self, x):\n",
    "        pre = np.zeros(test_x.shape[0])\n",
    "        for stump_classify, alpha in zip(self.weak_classifiers, self.alpha):\n",
    "            cur_pre = stump_classify.predict(x)\n",
    "            pre += cur_pre*alpha\n",
    "        return np.sign(pre)"
   ]
  },
  {
   "cell_type": "code",
   "execution_count": 11,
   "metadata": {},
   "outputs": [],
   "source": [
    "def adaboost_stump(train_x, train_y, epochs=40, error_rate_bound=0.0):\n",
    "    \"\"\"\n",
    "    type train_x   :[[]]\n",
    "    type train_y   :[[]]\n",
    "    type epochs    :int\n",
    "    type error_rate:float\n",
    "    \"\"\"\n",
    "    weak_classifier_arr = []  # 用来存放每轮的弱分类器\n",
    "    m, _ = train_x.shape\n",
    "    wrong_weight = np.ones(m, dtype=np.float32) / m  # 初始权重向量\n",
    "    error_rate_arr = []  # 方便观察错误率的变化\n",
    "    agg_class_est = np.ones(m)\n",
    "    for i in range(epochs):\n",
    "        weak_classifier = stump_classify(train_x, train_y)\n",
    "        weak_model = weak_classifier.fit(10.0, wrong_weight)\n",
    "        weak_classifier_arr.append(weak_model)\n",
    "        pre = weak_classifier.predict(test_X=train_x, **weak_model)\n",
    "        error_rate = weak_classifier.evaluate(train_y, pre, wrong_weight)  # 加权错误数\n",
    "\n",
    "        alpha = 0.5 * np.log((1 - error_rate) / max(error_rate,1e-16))  # 防止出现除数为0的异常\n",
    "\n",
    "        # 更新权重向量\n",
    "        wrong_weight *= np.exp(-pre * train_y * alpha)\n",
    "        wrong_weight = wrong_weight / np.sum(wrong_weight)  # 归一化处理\n",
    "\n",
    "        weak_model['alpha'] = alpha\n",
    "        agg_class_est += alpha*pre  # 加权估计器的预测结果\n",
    "\n",
    "        # 本轮及本轮之前所有弱分类器的加权平均估计错误率\n",
    "        agg_error_rate = np.sum((np.sign(agg_class_est) != train_y).astype(int))/float(m)\n",
    "\n",
    "        error_rate_arr.append(agg_error_rate)\n",
    "        if agg_error_rate <= error_rate_bound:\n",
    "            break\n",
    "    return (weak_classifier_arr, error_rate_arr)"
   ]
  },
  {
   "cell_type": "code",
   "execution_count": 12,
   "metadata": {},
   "outputs": [],
   "source": [
    "def adaboost_stump_predict(weak_classifier, test_x):\n",
    "    pre = np.zeros(test_x.shape[0])\n",
    "    for item in weak_classifier:\n",
    "        stump_tree = stump_classify(train_X=None, train_y=None)\n",
    "        cur_pre = stump_tree.predict(dimen=item['dimen'], thread_val=item['thread_val'], \\\n",
    "                           thread_ineq=item['thread_ineq'], test_X=test_x)\n",
    "        pre += cur_pre*item['alpha']\n",
    "    return np.sign(pre)"
   ]
  },
  {
   "cell_type": "markdown",
   "metadata": {},
   "source": [
    "## 测试基于 Decesion tree stump(决策树桩)的AdaBoost算法"
   ]
  },
  {
   "cell_type": "markdown",
   "metadata": {},
   "source": [
    "### 导入 breast_canser 数据集 "
   ]
  },
  {
   "cell_type": "code",
   "execution_count": 13,
   "metadata": {},
   "outputs": [],
   "source": [
    "from sklearn.datasets import load_breast_cancer\n",
    "datas = load_breast_cancer()"
   ]
  },
  {
   "cell_type": "code",
   "execution_count": 14,
   "metadata": {},
   "outputs": [],
   "source": [
    "datas_x = datas.data\n",
    "datas_y = datas.target"
   ]
  },
  {
   "cell_type": "code",
   "execution_count": 15,
   "metadata": {},
   "outputs": [
    {
     "name": "stdout",
     "output_type": "stream",
     "text": [
      "(569, 30)\n"
     ]
    }
   ],
   "source": [
    "print datas_x.shape"
   ]
  },
  {
   "cell_type": "code",
   "execution_count": 16,
   "metadata": {},
   "outputs": [
    {
     "data": {
      "text/plain": [
       "-1"
      ]
     },
     "execution_count": 16,
     "metadata": {},
     "output_type": "execute_result"
    }
   ],
   "source": [
    "datas_y[datas_y == 0] = -1\n",
    "datas_y.min()"
   ]
  },
  {
   "cell_type": "code",
   "execution_count": 17,
   "metadata": {},
   "outputs": [],
   "source": [
    "from sklearn.decomposition import pca"
   ]
  },
  {
   "cell_type": "code",
   "execution_count": 18,
   "metadata": {},
   "outputs": [],
   "source": [
    "bre_can_pca = pca.PCA(n_components=2)"
   ]
  },
  {
   "cell_type": "code",
   "execution_count": 19,
   "metadata": {},
   "outputs": [
    {
     "data": {
      "text/plain": [
       "PCA(copy=True, iterated_power='auto', n_components=2, random_state=None,\n",
       "  svd_solver='auto', tol=0.0, whiten=False)"
      ]
     },
     "execution_count": 19,
     "metadata": {},
     "output_type": "execute_result"
    }
   ],
   "source": [
    "bre_can_pca.fit(datas_x)"
   ]
  },
  {
   "cell_type": "code",
   "execution_count": 20,
   "metadata": {},
   "outputs": [
    {
     "data": {
      "text/plain": [
       "(569, 2)"
      ]
     },
     "execution_count": 20,
     "metadata": {},
     "output_type": "execute_result"
    }
   ],
   "source": [
    "bre_can_2d = bre_can_pca.transform(datas_x)\n",
    "bre_can_2d.shape"
   ]
  },
  {
   "cell_type": "code",
   "execution_count": 21,
   "metadata": {},
   "outputs": [],
   "source": [
    "positive_x = bre_can_2d[datas_y == 1]\n",
    "negative_x = bre_can_2d[datas_y == -1]"
   ]
  },
  {
   "cell_type": "code",
   "execution_count": 22,
   "metadata": {},
   "outputs": [
    {
     "name": "stdout",
     "output_type": "stream",
     "text": [
      "(357, 2)\n",
      "(212, 2)\n"
     ]
    }
   ],
   "source": [
    "print positive_x.shape\n",
    "print negative_x.shape"
   ]
  },
  {
   "cell_type": "code",
   "execution_count": 23,
   "metadata": {},
   "outputs": [
    {
     "data": {
      "image/png": "[encoded data removed]",
      "text/plain": [
       "<matplotlib.figure.Figure at 0x7f13e7511490>"
      ]
     },
     "metadata": {},
     "output_type": "display_data"
    }
   ],
   "source": [
    "fig = plt.figure(figsize=(12,7))\n",
    "plt.scatter(positive_x[:,0], positive_x[:,1], c=\"red\", label=\"+1\", alpha=0.4)\n",
    "plt.scatter(negative_x[:,0], negative_x[:,1], c=\"blue\", label=\"-1\", alpha=0.5)\n",
    "plt.legend()\n",
    "plt.savefig('distribution.png')"
   ]
  },
  {
   "cell_type": "markdown",
   "metadata": {},
   "source": [
    "### 将 breast_cancer 数据集随机分割 "
   ]
  },
  {
   "cell_type": "code",
   "execution_count": 24,
   "metadata": {},
   "outputs": [],
   "source": [
    "from sklearn.model_selection import train_test_split"
   ]
  },
  {
   "cell_type": "code",
   "execution_count": 25,
   "metadata": {},
   "outputs": [],
   "source": [
    "train_x, test_x, train_y, test_y = train_test_split(datas_x, datas_y, test_size=0.3)"
   ]
  },
  {
   "cell_type": "code",
   "execution_count": 26,
   "metadata": {},
   "outputs": [
    {
     "name": "stdout",
     "output_type": "stream",
     "text": [
      "(398, 30)\n",
      "(171, 30)\n"
     ]
    }
   ],
   "source": [
    "print train_x.shape\n",
    "print test_x.shape"
   ]
  },
  {
   "cell_type": "markdown",
   "metadata": {},
   "source": [
    "### 训练AdaBoost模型 "
   ]
  },
  {
   "cell_type": "code",
   "execution_count": 27,
   "metadata": {},
   "outputs": [
    {
     "name": "stderr",
     "output_type": "stream",
     "text": [
      "/home/hao/anaconda2/lib/python2.7/site-packages/ipykernel_launcher.py:27: DeprecationWarning: object of type <type 'float'> cannot be safely interpreted as an integer.\n"
     ]
    }
   ],
   "source": [
    "week_classifiers, error_rates = adaboost_stump(train_x, train_y)"
   ]
  },
  {
   "cell_type": "code",
   "execution_count": 28,
   "metadata": {},
   "outputs": [
    {
     "data": {
      "text/plain": [
       "[{'alpha': 1.1540626425724874,\n",
       "  'dimen': 27,\n",
       "  'thread_ineq': 'right_true',\n",
       "  'thread_val': 0.12933333333333333},\n",
       " {'alpha': 0.8738909220901985,\n",
       "  'dimen': 20,\n",
       "  'thread_ineq': 'right_true',\n",
       "  'thread_val': 17.798666666666666},\n",
       " {'alpha': 0.6895731785443984,\n",
       "  'dimen': 23,\n",
       "  'thread_ineq': 'right_true',\n",
       "  'thread_val': 671.4222222222222},\n",
       " {'alpha': 0.5076946198933043,\n",
       "  'dimen': 10,\n",
       "  'thread_ineq': 'right_true',\n",
       "  'thread_val': 0.41833333333333333},\n",
       " {'alpha': 0.5662841730765953,\n",
       "  'dimen': 21,\n",
       "  'thread_ineq': 'right_true',\n",
       "  'thread_val': 20.357777777777777},\n",
       " {'alpha': 0.4275977583321169,\n",
       "  'dimen': 27,\n",
       "  'thread_ineq': 'right_true',\n",
       "  'thread_val': 0.16166666666666665},\n",
       " {'alpha': 0.30870967181462944,\n",
       "  'dimen': 1,\n",
       "  'thread_ineq': 'right_true',\n",
       "  'thread_val': 19.56666666666667},\n",
       " {'alpha': 0.3445868111404105,\n",
       "  'dimen': 29,\n",
       "  'thread_ineq': 'left_true',\n",
       "  'thread_val': 0.07197999999999999},\n",
       " {'alpha': 0.40083703884409055,\n",
       "  'dimen': 24,\n",
       "  'thread_ineq': 'right_true',\n",
       "  'thread_val': 0.10388777777777777},\n",
       " {'alpha': 0.3693535982500032,\n",
       "  'dimen': 3,\n",
       "  'thread_ineq': 'right_true',\n",
       "  'thread_val': 688.311111111111},\n",
       " {'alpha': 0.3634765767719761,\n",
       "  'dimen': 26,\n",
       "  'thread_ineq': 'right_true',\n",
       "  'thread_val': 0.26},\n",
       " {'alpha': 0.31751392949410606,\n",
       "  'dimen': 15,\n",
       "  'thread_ineq': 'left_true',\n",
       "  'thread_val': 0.01704622222222222},\n",
       " {'alpha': 0.3150277158545601,\n",
       "  'dimen': 4,\n",
       "  'thread_ineq': 'right_true',\n",
       "  'thread_val': 0.09355},\n",
       " {'alpha': 0.3020999920038051,\n",
       "  'dimen': 1,\n",
       "  'thread_ineq': 'right_true',\n",
       "  'thread_val': 16.281111111111112},\n",
       " {'alpha': 0.3564114268952197,\n",
       "  'dimen': 21,\n",
       "  'thread_ineq': 'right_true',\n",
       "  'thread_val': 28.695555555555554},\n",
       " {'alpha': 0.3181723389022778,\n",
       "  'dimen': 17,\n",
       "  'thread_ineq': 'right_true',\n",
       "  'thread_val': 0.013633333333333334},\n",
       " {'alpha': 0.2364565721667826,\n",
       "  'dimen': 15,\n",
       "  'thread_ineq': 'left_true',\n",
       "  'thread_val': 0.06142888888888888},\n",
       " {'alpha': 0.29927634237886136,\n",
       "  'dimen': 3,\n",
       "  'thread_ineq': 'right_true',\n",
       "  'thread_val': 688.311111111111},\n",
       " {'alpha': 0.26190249381038594,\n",
       "  'dimen': 28,\n",
       "  'thread_ineq': 'right_true',\n",
       "  'thread_val': 0.2968},\n",
       " {'alpha': 0.2579366451068551,\n",
       "  'dimen': 21,\n",
       "  'thread_ineq': 'right_true',\n",
       "  'thread_val': 20.357777777777777},\n",
       " {'alpha': 0.33444441373401157,\n",
       "  'dimen': 10,\n",
       "  'thread_ineq': 'right_true',\n",
       "  'thread_val': 0.41833333333333333},\n",
       " {'alpha': 0.30189051395054484,\n",
       "  'dimen': 27,\n",
       "  'thread_ineq': 'right_true',\n",
       "  'thread_val': 0.097},\n",
       " {'alpha': 0.29723258521151485,\n",
       "  'dimen': 28,\n",
       "  'thread_ineq': 'left_true',\n",
       "  'thread_val': 0.20326666666666668},\n",
       " {'alpha': 0.2768266306308443,\n",
       "  'dimen': 21,\n",
       "  'thread_ineq': 'right_true',\n",
       "  'thread_val': 20.357777777777777},\n",
       " {'alpha': 0.2645211597385876,\n",
       "  'dimen': 6,\n",
       "  'thread_ineq': 'right_true',\n",
       "  'thread_val': 0.09484444444444445},\n",
       " {'alpha': 0.3416847553628013,\n",
       "  'dimen': 29,\n",
       "  'thread_ineq': 'left_true',\n",
       "  'thread_val': 0.07197999999999999},\n",
       " {'alpha': 0.24379603958383766,\n",
       "  'dimen': 18,\n",
       "  'thread_ineq': 'left_true',\n",
       "  'thread_val': 0.015778444444444446},\n",
       " {'alpha': 0.29881778639964274,\n",
       "  'dimen': 6,\n",
       "  'thread_ineq': 'right_true',\n",
       "  'thread_val': 0.09484444444444445},\n",
       " {'alpha': 0.2696167161053494,\n",
       "  'dimen': 19,\n",
       "  'thread_ineq': 'left_true',\n",
       "  'thread_val': 0.005775955555555555},\n",
       " {'alpha': 0.2964973268416226,\n",
       "  'dimen': 21,\n",
       "  'thread_ineq': 'right_true',\n",
       "  'thread_val': 28.695555555555554},\n",
       " {'alpha': 0.2187997348548594,\n",
       "  'dimen': 3,\n",
       "  'thread_ineq': 'right_true',\n",
       "  'thread_val': 688.311111111111},\n",
       " {'alpha': 0.25257936931932495,\n",
       "  'dimen': 4,\n",
       "  'thread_ineq': 'right_true',\n",
       "  'thread_val': 0.08332},\n",
       " {'alpha': 0.20488087851887768,\n",
       "  'dimen': 28,\n",
       "  'thread_ineq': 'left_true',\n",
       "  'thread_val': 0.20326666666666668},\n",
       " {'alpha': 0.27161128220233544,\n",
       "  'dimen': 27,\n",
       "  'thread_ineq': 'right_true',\n",
       "  'thread_val': 0.097},\n",
       " {'alpha': 0.22413189376564777,\n",
       "  'dimen': 5,\n",
       "  'thread_ineq': 'left_true',\n",
       "  'thread_val': 0.09182888888888888},\n",
       " {'alpha': 0.19939130981506417,\n",
       "  'dimen': 6,\n",
       "  'thread_ineq': 'right_true',\n",
       "  'thread_val': 0.09484444444444445},\n",
       " {'alpha': 0.20728412368834775,\n",
       "  'dimen': 18,\n",
       "  'thread_ineq': 'left_true',\n",
       "  'thread_val': 0.015778444444444446},\n",
       " {'alpha': 0.18980771432734272,\n",
       "  'dimen': 28,\n",
       "  'thread_ineq': 'right_true',\n",
       "  'thread_val': 0.2968},\n",
       " {'alpha': 0.19921506656263707,\n",
       "  'dimen': 1,\n",
       "  'thread_ineq': 'right_true',\n",
       "  'thread_val': 16.281111111111112},\n",
       " {'alpha': 0.2405629167389661,\n",
       "  'dimen': 10,\n",
       "  'thread_ineq': 'right_true',\n",
       "  'thread_val': 0.41833333333333333}]"
      ]
     },
     "execution_count": 28,
     "metadata": {},
     "output_type": "execute_result"
    }
   ],
   "source": [
    "week_classifiers"
   ]
  },
  {
   "cell_type": "code",
   "execution_count": 29,
   "metadata": {},
   "outputs": [],
   "source": [
    "pre = adaboost_stump_predict(weak_classifier=week_classifiers, test_x=test_x)"
   ]
  },
  {
   "cell_type": "code",
   "execution_count": 30,
   "metadata": {},
   "outputs": [],
   "source": [
    "from sklearn.metrics import accuracy_score,confusion_matrix"
   ]
  },
  {
   "cell_type": "code",
   "execution_count": 31,
   "metadata": {},
   "outputs": [
    {
     "data": {
      "text/plain": [
       "0.9707602339181286"
      ]
     },
     "execution_count": 31,
     "metadata": {},
     "output_type": "execute_result"
    }
   ],
   "source": [
    "accuracy_score(y_pred=pre, y_true=test_y)"
   ]
  },
  {
   "cell_type": "code",
   "execution_count": 32,
   "metadata": {},
   "outputs": [
    {
     "data": {
      "text/plain": [
       "array([[ 54,   4],\n",
       "       [  1, 112]])"
      ]
     },
     "execution_count": 32,
     "metadata": {},
     "output_type": "execute_result"
    }
   ],
   "source": [
    "confusion_matrix(y_pred=pre, y_true=test_y)"
   ]
  },
  {
   "cell_type": "code",
   "execution_count": null,
   "metadata": {},
   "outputs": [],
   "source": []
  }
 ],
 "metadata": {
  "kernelspec": {
   "display_name": "Python 2",
   "language": "python",
   "name": "python2"
  },
  "language_info": {
   "codemirror_mode": {
    "name": "ipython",
    "version": 2
   },
   "file_extension": ".py",
   "mimetype": "text/x-python",
   "name": "python",
   "nbconvert_exporter": "python",
   "pygments_lexer": "ipython2",
   "version": "2.7.14"
  }
 },
 "nbformat": 4,
 "nbformat_minor": 2
}
