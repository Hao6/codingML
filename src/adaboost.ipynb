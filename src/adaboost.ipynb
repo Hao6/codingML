{
 "cells": [
  {
   "cell_type": "markdown",
   "metadata": {},
   "source": [
    "# Adaboost \n",
    "- 以决策树桩(单层决策树)作为基分类器的Adaboost"
   ]
  },
  {
   "cell_type": "code",
   "execution_count": 2,
   "metadata": {},
   "outputs": [],
   "source": [
    "import numpy as np"
   ]
  },
  {
   "cell_type": "markdown",
   "metadata": {},
   "source": [
    "## Decesion tree stump(决策树桩) "
   ]
  },
  {
   "cell_type": "code",
   "execution_count": 1,
   "metadata": {},
   "outputs": [
    {
     "ename": "IndentationError",
     "evalue": "expected an indented block (<ipython-input-1-29127a0053fe>, line 13)",
     "output_type": "error",
     "traceback": [
      "\u001b[0;36m  File \u001b[0;32m\"<ipython-input-1-29127a0053fe>\"\u001b[0;36m, line \u001b[0;32m13\u001b[0m\n\u001b[0;31m    \u001b[0m\n\u001b[0m    ^\u001b[0m\n\u001b[0;31mIndentationError\u001b[0m\u001b[0;31m:\u001b[0m expected an indented block\n"
     ]
    }
   ],
   "source": [
    "class stump_classify(classier):\n",
    "    def __init__(self, train_X, train_y, valid_X = None, valid_y = None):\n",
    "        \"\"\"\n",
    "        type train_X:[[]]\n",
    "        type train_y:[]\n",
    "        type valid_X:[[]]\n",
    "        type valid_y:[]\n",
    "        \"\"\"\n",
    "        self.train_X = train_X\n",
    "        self.train_y = train_y\n",
    "        self.valid_X = valid_X\n",
    "        self.valid_y = valid_y\n",
    "    def fit(self, num_steps):\n",
    "        \"\"\"\n",
    "        type num_steps:int, 迭代的次数\n",
    "        \"\"\"\n",
    "        m , n = self.train_X.shape\n",
    "        thread_ineqs = [\"left_true\",\"right_true\"]\n",
    "        max_score = -float(\"inf\")\n",
    "        parameter_dic = {}\n",
    "        for i in range(n):\n",
    "            cur_dimen_min = self.train_X[:,i].min()\n",
    "            cur_dimen_max = self.train_X[:,i].max()\n",
    "            thread_range = cur_dimen_max - cur_dimen_min # 当前属性的值区间\n",
    "            for thread_val in np.linspace(cur_dimen_min,cur_dimen_max,num_steps):\n",
    "                for thread_ineq in thread_ineqs:\n",
    "                    pre = self.predict(dimen=i, thread_val=thread_val, thread_ineq= thread_ineq,\\\n",
    "                                       test_X=self.train_X)\n",
    "                    cur_score = self.evaluate(self.train_y, pre)\n",
    "                    if cur_score > max_score:\n",
    "                        max_score = cur_score\n",
    "                        parameter_dic['dimen'] = i\n",
    "                        parameter_dic['thread_val'] = thread_val\n",
    "                        parameter_dic['thread_ineq'] = thread_ineq\n",
    "    \n",
    "    # 三个参数可以看做是学习得到的三个参数，最终的模型也是使用这三个参数来表示的\n",
    "    def predict(self, dimen, thread_val, thread_ineq, test_X):\n",
    "        \"\"\"\n",
    "        type dimen:int, 使用哪个维度作为划分属性\n",
    "        type thread_val:float, 使用 dimen>thread_val 与 dimen<=thread_val 划分为两部分\n",
    "        type thread_ineq:str, 表明 dimen>thread_val 属于那个类别\n",
    "        rtype [], 预测结果\n",
    "        \"\"\"\n",
    "        m , _ = test_X.shape\n",
    "        test_y = [0]*m\n",
    "        if thread_ineq == \"left_true\":\n",
    "            test_y[test_X[:,dimen] < thread_val]  = 1.0\n",
    "        else:\n",
    "            test_y[test_X[:,dimen] >= thread_val] = 1.0\n",
    "        return test_y\n",
    "    \n",
    "    def evaluate(self, test_y, pre, score=None):\n",
    "        if score == None:\n",
    "            return float(np.sum(test_y == pre)) / len(test_y)\n",
    "        else:\n",
    "            return score(test_y, pre)"
   ]
  }
 ],
 "metadata": {
  "kernelspec": {
   "display_name": "Python 2",
   "language": "python",
   "name": "python2"
  },
  "language_info": {
   "codemirror_mode": {
    "name": "ipython",
    "version": 2
   },
   "file_extension": ".py",
   "mimetype": "text/x-python",
   "name": "python",
   "nbconvert_exporter": "python",
   "pygments_lexer": "ipython2",
   "version": "2.7.14"
  }
 },
 "nbformat": 4,
 "nbformat_minor": 2
}
