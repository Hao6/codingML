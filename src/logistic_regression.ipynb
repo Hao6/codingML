{
 "cells": [
  {
   "cell_type": "markdown",
   "metadata": {},
   "source": [
    "## 逻辑回归 "
   ]
  },
  {
   "cell_type": "markdown",
   "metadata": {},
   "source": [
    "### 参数设置\n",
    "- X, 样本数据, shape=(m,n),type:np.ndarray()\n",
    "- y, 标签数据, shape=(m,1),type:np.ndarray()\n",
    "- theta, 权重, shape=(1,n),type:np.ndarray()\n",
    "- b, 偏差，标量, type:float"
   ]
  },
  {
   "cell_type": "code",
   "execution_count": 104,
   "metadata": {},
   "outputs": [],
   "source": [
    "import numpy as np\n",
    "import matplotlib.pyplot as plt\n",
    "from sklearn import datasets\n",
    "from sklearn.preprocessing import StandardScaler\n",
    "from sklearn.metrics import accuracy_score"
   ]
  },
  {
   "cell_type": "code",
   "execution_count": 180,
   "metadata": {},
   "outputs": [],
   "source": [
    "class LogisticRegression(object):\n",
    "    def __init__(self, learning_rate=0.01, epochs=1000, is_regularization = None, lam=0.1,\n",
    "                verbose = False):\n",
    "        \"\"\"\n",
    "        :type learning_rate: float, 学习率\n",
    "        :type epochs: int, 迭代次数\n",
    "        :type is_regularization: int, None: 不使用正则化，l1: L1正则化，l2: L2正则化\n",
    "        :type lam: 正则化项的系数\n",
    "        \"\"\"\n",
    "        self.alpha = learning_rate\n",
    "        self.epochs = epochs\n",
    "        self.is_regularization = is_regularization\n",
    "        self.lam = lam\n",
    "        self.theta = None\n",
    "        self.b = None\n",
    "        self.verbose = verbose\n",
    "    def train(self, train_x, train_y):\n",
    "        m , n = train_x.shape\n",
    "        if len(train_y.shape) == 1:\n",
    "            train_y = train_y.reshape(-1, 1)\n",
    "        self.theta = np.random.randn(1 ,n)\n",
    "        self.b = np.random.randn()\n",
    "        \n",
    "        for i in range(self.epochs):\n",
    "            pre_y = self.predict(train_x)\n",
    "#             print pre_y.shape, train_y.shape\n",
    "            d_theta = np.mean((pre_y - train_y)*train_x, axis=0).reshape(*self.theta.shape)\n",
    "            d_b     = np.mean(pre_y - train_y, axis=0)\n",
    "#             print d_theta.shape\n",
    "            # L1 正则\n",
    "            if self.is_regularization == 'l1':\n",
    "                d_l1 = np.ones_like(self.theta)\n",
    "                d_l1[self.theta < 0] = -1\n",
    "                d_theta += self.lam * d_l1\n",
    "            # L2 正则\n",
    "            elif self.is_regularization == 'l2':\n",
    "                d_theta += self.lam * self.theta\n",
    "            \n",
    "            self.theta -= self.alpha * d_theta\n",
    "            self.b     -= self.alpha * d_b\n",
    "            if self.verbose is True and (i+1)%(m/10) == 0:\n",
    "                print 'the %d train' % (i)\n",
    "    \n",
    "    def fit(self, train_x, train_y):\n",
    "        self.train(train_x, train_y)\n",
    "        \n",
    "    def predict(self, test_x):\n",
    "        return self.sigmoid(np.dot(test_x, self.theta.T)+self.b)\n",
    "        \n",
    "    def output(self, test_x):\n",
    "        return (self.sigmoid(np.dot(test_x, self.theta.T)+self.b) > 0.5).astype(int)\n",
    "    \n",
    "    def sigmoid(self, x):\n",
    "        return 1.0 / (np.exp(-x)+1)"
   ]
  },
  {
   "cell_type": "code",
   "execution_count": 19,
   "metadata": {},
   "outputs": [],
   "source": [
    "def load_data():\n",
    "    digits = datasets.load_digits()\n",
    "    X, y = digits.data, digits.target\n",
    "    X = StandardScaler().fit_transform(X)\n",
    "\n",
    "    # classify small against large digits\n",
    "    y = (y > 4).astype(np.int)\n",
    "    return X,y"
   ]
  },
  {
   "cell_type": "code",
   "execution_count": 198,
   "metadata": {},
   "outputs": [],
   "source": [
    "def logisticRegression(X, y):\n",
    "    for i, lam in enumerate((3, 6, 9)):\n",
    "        # turn down tolerance for short training time\n",
    "        clf_l1_LR = LogisticRegression(learning_rate=0.2, epochs=11000, \n",
    "                                       is_regularization='l1', lam=lam, verbose=False)\n",
    "        clf_l2_LR = LogisticRegression(learning_rate=0.2, epochs=11000, \n",
    "                                       is_regularization='l2', lam=lam, verbose=False)\n",
    "        clf_l1_LR.fit(X, y)\n",
    "        clf_l2_LR.fit(X, y)\n",
    "\n",
    "        coef_l1_LR = clf_l1_LR.theta.ravel()\n",
    "        coef_l2_LR = clf_l2_LR.theta.ravel()\n",
    "\n",
    "        # coef_l1_LR contains zeros due to the\n",
    "        # L1 sparsity inducing norm\n",
    "\n",
    "        sparsity_l1_LR = np.sum(coef_l1_LR == 0)\n",
    "        sparsity_l2_LR = np.sum(coef_l2_LR == 0)\n",
    "        \n",
    "        clf_l1_pre_y = clf_l1_LR.output(X)\n",
    "        clf_l2_pre_y = clf_l2_LR.output(X)\n",
    "\n",
    "        print(\"lam=%f\" % lam)\n",
    "        print(\"Sparsity with L1 penalty: %d\" % sparsity_l1_LR)\n",
    "        print(\"score with L1 penalty: %f\" % accuracy_score(clf_l1_pre_y, y))\n",
    "        print(\"Sparsity with L2 penalty: %d\" % sparsity_l2_LR)\n",
    "        print(\"score with L2 penalty: %f\" % accuracy_score(clf_l2_pre_y, y)) \n",
    "\n",
    "        plt.figure(figsize=(12, 7))\n",
    "        l1_plot = plt.subplot(3, 2, 2 * i + 1)\n",
    "        l2_plot = plt.subplot(3, 2, 2 * (i + 1))\n",
    "        if i == 0:\n",
    "            l1_plot.set_title(\"L1 penalty\")\n",
    "            l2_plot.set_title(\"L2 penalty\")\n",
    "\n",
    "        l1_plot.imshow(np.abs(coef_l1_LR.reshape(8, 8)), interpolation='nearest',\n",
    "                       cmap='binary', vmax=1, vmin=0)\n",
    "        l2_plot.imshow(np.abs(coef_l2_LR.reshape(8, 8)), interpolation='nearest',\n",
    "                       cmap='binary', vmax=1, vmin=0)\n",
    "        plt.text(-8, 3, \"lam = %f\" % lam)\n",
    "\n",
    "        l1_plot.set_xticks(())\n",
    "        l1_plot.set_yticks(())\n",
    "        l2_plot.set_xticks(())\n",
    "        l2_plot.set_yticks(())"
   ]
  },
  {
   "cell_type": "code",
   "execution_count": 190,
   "metadata": {},
   "outputs": [],
   "source": [
    "X, y = load_data()"
   ]
  },
  {
   "cell_type": "code",
   "execution_count": 199,
   "metadata": {},
   "outputs": [
    {
     "name": "stdout",
     "output_type": "stream",
     "text": [
      "lam=3.000000\n",
      "Sparsity with L1 penalty: 0\n",
      "score with L1 penalty: 0.514747\n",
      "Sparsity with L2 penalty: 3\n",
      "score with L2 penalty: 0.847524\n",
      "lam=6.000000\n",
      "Sparsity with L1 penalty: 0\n",
      "score with L1 penalty: 0.513077\n",
      "Sparsity with L2 penalty: 3\n",
      "score with L2 penalty: 0.835838\n",
      "lam=9.000000\n",
      "Sparsity with L1 penalty: 0\n",
      "score with L1 penalty: 0.671119\n",
      "Sparsity with L2 penalty: 0\n",
      "score with L2 penalty: 0.454090\n"
     ]
    },
    {
     "data": {
      "image/png": "[encoded data removed]",
      "text/plain": [
       "<Figure size 864x504 with 2 Axes>"
      ]
     },
     "metadata": {},
     "output_type": "display_data"
    },
    {
     "data": {
      "image/png": "[encoded data removed]",
      "text/plain": [
       "<Figure size 864x504 with 2 Axes>"
      ]
     },
     "metadata": {},
     "output_type": "display_data"
    },
    {
     "data": {
      "image/png": "[encoded data removed]",
      "text/plain": [
       "<Figure size 864x504 with 2 Axes>"
      ]
     },
     "metadata": {},
     "output_type": "display_data"
    }
   ],
   "source": [
    "logisticRegression(X, y)"
   ]
  },
  {
   "cell_type": "markdown",
   "metadata": {},
   "source": [
    "### 实现一个one-vs-all的多类别分类器 "
   ]
  },
  {
   "cell_type": "code",
   "execution_count": 16,
   "metadata": {},
   "outputs": [
    {
     "name": "stdout",
     "output_type": "stream",
     "text": [
      "(60000, 784) (60000, 10)\n"
     ]
    }
   ],
   "source": [
    "def load_data(path = \"../data/mnist\", kind = 'train', one_hot = True, normals = True):\n",
    "    images, labels = load_mnist(path, kind=kind)\n",
    "    if normals == True:\n",
    "        images = images / 255.0\n",
    "    if one_hot == True:\n",
    "        labels_onehot = np.zeros((labels.shape[0], np.unique(labels).shape[0]))\n",
    "        for i in range(labels_onehot.shape[0]):\n",
    "            labels_onehot[i][labels[i]] = 1\n",
    "        labels = labels_onehot\n",
    "    return (images, labels)"
   ]
  },
  {
   "cell_type": "code",
   "execution_count": 15,
   "metadata": {},
   "outputs": [],
   "source": [
    "def logisticRegression(train_x, train_y, test_x, test_y):\n",
    "    # Turn up tolerance for faster convergence\n",
    "    \n",
    "    clf = LogisticRegression(learning_rate=0.01, epochs=1000, \n",
    "                             is_regularization='l1', lam=0.1)\n",
    "    clf.fit(train_x, train_y)\n",
    "    sparsity = np.mean(clf.theta == 0) * 100\n",
    "    pre_y = clf.predict(test_x)\n",
    "    score = clf.score(pre_y, test_y)\n",
    "    # print('Best C % .4f' % clf.C_)\n",
    "    print(\"Sparsity with L1 penalty: %.2f%%\" % sparsity)\n",
    "    print(\"Test score with L1 penalty: %.4f\" % score)\n",
    "\n",
    "    coef = clf.theta.copy()\n",
    "    plt.figure(figsize=(10, 5))\n",
    "    scale = np.abs(coef).max()\n",
    "    for i in range(10):\n",
    "        l1_plot = plt.subplot(2, 5, i + 1)\n",
    "        l1_plot.imshow(coef[i].reshape(28, 28), interpolation='nearest',\n",
    "                       cmap=plt.cm.RdBu, vmin=-scale, vmax=scale)\n",
    "        l1_plot.set_xticks(())\n",
    "        l1_plot.set_yticks(())\n",
    "        l1_plot.set_xlabel('Class %i' % i)\n",
    "    plt.suptitle('Classification vector for...')"
   ]
  },
  {
   "cell_type": "code",
   "execution_count": null,
   "metadata": {},
   "outputs": [],
   "source": [
    "train_x, train_y = load_data(kind='train')\n",
    "test_x, test_y = load_data(kind='t10k')\n",
    "print train_x.shape, train_y.shape"
   ]
  },
  {
   "cell_type": "code",
   "execution_count": null,
   "metadata": {},
   "outputs": [],
   "source": []
  }
 ],
 "metadata": {
  "kernelspec": {
   "display_name": "Python 2",
   "language": "python",
   "name": "python2"
  },
  "language_info": {
   "codemirror_mode": {
    "name": "ipython",
    "version": 2
   },
   "file_extension": ".py",
   "mimetype": "text/x-python",
   "name": "python",
   "nbconvert_exporter": "python",
   "pygments_lexer": "ipython2",
   "version": "2.7.15"
  }
 },
 "nbformat": 4,
 "nbformat_minor": 2
}
