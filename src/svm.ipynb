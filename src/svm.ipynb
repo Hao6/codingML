{
 "cells": [
  {
   "cell_type": "markdown",
   "metadata": {},
   "source": [
    "## 实现支持向量机\n",
    "- 使用**SMO算法**训练svm模型\n",
    "- 线性可分支持向量机（硬间隔）\n",
    "- 线性支持向量机（软间隔）\n",
    "- 非线性支持向量机（核函数）\n",
    "- 其中**线性可分支持向量机**可看做**线性支持向量机**的特殊形式，而**线性支持向量机**也可看做**非线性支持向量机**的特殊形式"
   ]
  },
  {
   "cell_type": "code",
   "execution_count": 1,
   "metadata": {},
   "outputs": [],
   "source": [
    "import numpy as np"
   ]
  },
  {
   "cell_type": "code",
   "execution_count": 63,
   "metadata": {},
   "outputs": [],
   "source": [
    "class Kernel(object):\n",
    "    def __init__(self):\n",
    "        pass\n",
    "    def calKernel(self, x, y, sigma):\n",
    "        pass\n",
    "class LinearKernel(Kernel):\n",
    "    \"\"\"线性核函数类，主要实现两个向量（一维向量）的内积\n",
    "    Args:\n",
    "        x,(numpy.narray)\n",
    "        y,(numpy.narray)\n",
    "    \"\"\"\n",
    "    def __init__(self):\n",
    "        pass\n",
    "    def calKernel(self, x, y, sigma=None):\n",
    "        if len(x.shape) > 2 or len(y.shape) > 2:\n",
    "            raise AssertionError(r\"输入向量的维度超过了2，无法转换为1维向量\")\n",
    "        if len(x.shape) == 2:\n",
    "            x = x.squeeze()\n",
    "        if len(y.shape) == 2:\n",
    "            y = y.squeeze()\n",
    "        assert x.shape == y.shape\n",
    "        # 计算内积\n",
    "        return np.dot(x, y)\n",
    "\n",
    "class RbfKernel(object):\n",
    "    \"\"\"高斯径向基核函数类，\n",
    "    Args:\n",
    "        x,(numpy.narray)\n",
    "        y,(numpy.narray)\n",
    "        sigma, int\n",
    "    \"\"\"\n",
    "    def __init__(self):\n",
    "        pass\n",
    "    def calKernel(self, x, y, sigma=1):\n",
    "        if len(x.shape) > 2 or len(y.shape) > 2:\n",
    "            raise AssertionError(r\"输入向量的维度超过了2，无法转换为1维向量\")\n",
    "        if len(x.shape) == 2:\n",
    "            x = x.squeeze()\n",
    "        if len(y.shape) == 2:\n",
    "            y = y.squeeze()\n",
    "        assert x.shape == y.shape\n",
    "        # 径向基\n",
    "        diff = x - y\n",
    "        return np.exp(-(np.dot(diff, diff))/(2*sigma**2))"
   ]
  },
  {
   "cell_type": "code",
   "execution_count": 110,
   "metadata": {},
   "outputs": [
    {
     "name": "stdout",
     "output_type": "stream",
     "text": [
      "2.06115362244e-09\n"
     ]
    }
   ],
   "source": [
    "lkernel = RbfKernel()\n",
    "x = np.array([4, 5])\n",
    "y = np.array([-2, 7])\n",
    "print lkernel.calKernel(x, y)"
   ]
  },
  {
   "cell_type": "code",
   "execution_count": 116,
   "metadata": {},
   "outputs": [],
   "source": [
    "class SVM(object):\n",
    "    \"\"\"实现非线性支持向量机模型的训练、预测\n",
    "    Args:\n",
    "        kernel,(str)，决定使用哪一种核函数\n",
    "        C,(float),惩罚参数\n",
    "        epsilon(flaot),松弛变量\n",
    "    \"\"\"\n",
    "    def __init__(self, kernel='gaussian', C=10.0, epsilon=0.001, sigma=10):\n",
    "        if kernel == 'linear':\n",
    "            self.kernel = LinearKernel()\n",
    "        else:\n",
    "            self.kernel = RbfKernel()\n",
    "        self.C = C\n",
    "        self.epsilon = epsilon\n",
    "        self.sigma = sigma\n",
    "        self.W = None\n",
    "        self.b = 0.0\n",
    "        self.alpha = None\n",
    "        self.train_x = None\n",
    "        self.train_y = None\n",
    "        self.kernel_value = None\n",
    "        self.m = 0\n",
    "        self.n = 0\n",
    "        self.support_vectors = []\n",
    "    def __getKernel(self):\n",
    "        self.kernel_value = np.zeros(shape=(self.m, self.m))\n",
    "        for i in range(self.m):\n",
    "            for j in range(self.m):\n",
    "                if j < i:\n",
    "                    self.kernel_value[i][j] = self.kernel_value[j][i]\n",
    "                else:\n",
    "                    self.kernel_value[i][j] = self.kernel.calKernel(self.train_x[i], \n",
    "                                                                    self.train_x[j], \n",
    "                                                                    self.sigma)\n",
    "    def __predict(self, index=None):\n",
    "        if index is None:\n",
    "            pre_y = np.empty_like(self.train_y)\n",
    "            # 循环解法\n",
    "    #         for i in range(self.m):\n",
    "    #             pre_y[i] = np.dot(self.alpha * self.train_y, self.kernel_value[i]) + self.b\n",
    "            # 向量化解法\n",
    "            pre_y = np.dot(self.kernel_value, (self.alpha * \n",
    "                                               self.train_y).reshape(-1, 1)\n",
    "                          ).squeeze() + self.b\n",
    "        else:\n",
    "            assert index < self.m\n",
    "            pre_y = np.dot(self.alpha * self.train_y, self.kernel_value[index]) + self.b\n",
    "        return pre_y\n",
    "    def fit(self, train_x, train_y):\n",
    "        self.train(train_x, train_y)\n",
    "    def train(self, train_x, train_y):\n",
    "        self.train_x = train_x\n",
    "        self.train_y = train_y\n",
    "        self.m, self.n = self.train_x.shape\n",
    "        # 根据当前阶段的alpha,计算当前的预测值\n",
    "        self.alpha = np.zeros(self.m)\n",
    "        self.__getKernel()\n",
    "        pre_y = self.__predict()\n",
    "        E = pre_y - self.train_y\n",
    "        pre_y_plus_train_y = pre_y * self.train_y\n",
    "        # 按照启发式算法寻找alpha_x与alpha_y\n",
    "        while True:\n",
    "            is_satisfied = True\n",
    "            cur_alpha_x = -1\n",
    "            cur_bias = 0\n",
    "            for i in range(self.m):\n",
    "                if self.alpha[i] > 0 and self.alpha[i] < self.C:\n",
    "                    if pre_y_plus_train_y[i] != 1:\n",
    "                        if is_satisfied is True :\n",
    "                            cur_bias = np.abs(1-pre_y_plus_train_y[i])\n",
    "                            if cur_bias > self.epsilon:\n",
    "                                is_satisfied = False\n",
    "                                cur_alpha_x = i\n",
    "                        elif cur_bias < np.abs(1-pre_y_plus_train_y[i]):\n",
    "                            cur_alpha_x = i\n",
    "                            cur_bias = np.abs(1-pre_y_plus_train_y[i])\n",
    "            if is_satisfied is True: # 说明所有0<alpha_x<C <==> prey_i*trainy_i == 1全部成立，\n",
    "                # 下一步判断其他两种情况\n",
    "                for i in range(self.m):\n",
    "                    if self.alpha[i] == 0:\n",
    "                        if pre_y_plus_train_y[i] < 1:\n",
    "                            if is_satisfied is True:\n",
    "                                cur_bias = np.abs(1-pre_y_plus_train_y[i])\n",
    "                                if cur_bias > self.epsilon:\n",
    "                                    is_satisfied = False\n",
    "                                    cur_alpha_x = i\n",
    "                            elif cur_bias < np.abs(1-pre_y_plus_train_y[i]):\n",
    "                                cur_alpha_x = i\n",
    "                                cur_bias = np.abs(1-pre_y_plus_train_y[i])\n",
    "                    elif self.alpha[i] == self.C:\n",
    "                        if pre_y_plus_train_y[i] > 1:\n",
    "                            if is_satisfied is True:\n",
    "                                cur_bias = np.abs(1-pre_y_plus_train_y[i])\n",
    "                                if cur_bias > self.epsilon:\n",
    "                                    is_satisfied = False\n",
    "                                    cur_alpha_x = i\n",
    "                            elif cur_bias < np.abs(1-pre_y_plus_train_y[i]):\n",
    "                                cur_alpha_x = i\n",
    "                                cur_bias = np.abs(1-pre_y_plus_train_y[i])\n",
    "            if is_satisfied is True: # 全部都满足kkt条件，退出循环\n",
    "                break\n",
    "            # 成功的找到了alpha_x,即第一个alpha,再次开始遍历alpha,找到alpha_y，即第二个alpha\n",
    "            # 按照使|E_x - E_y|最大化的启发式方法\n",
    "            E_max, E_min = np.max(E), np.min(E)\n",
    "            cur_alpha_y = -1\n",
    "            if np.abs(E_max - E[cur_alpha_x]) > np.abs(E_min - E[cur_alpha_x]):\n",
    "                cur_alpha_y = np.argmax(E)\n",
    "            else:\n",
    "                cur_alpha_y = np.argmin(E)\n",
    "            # 找到了alpha_y，下一步更新alpha_x与alpha_y\n",
    "            L = 0\n",
    "            H = 0\n",
    "            if self.train_y[cur_alpha_x] == self.train_y[cur_alpha_y]:\n",
    "                L = max(0, self.alpha[cur_alpha_x]+self.alpha[cur_alpha_y]-self.C)\n",
    "                H = min(self.C, self.alpha[cur_alpha_x]+self.alpha[cur_alpha_y])\n",
    "            else:\n",
    "                L = max(0, self.alpha[cur_alpha_y]-self.alpha[cur_alpha_x])\n",
    "                H = min(self.C, self.alpha[cur_alpha_y]-self.alpha[cur_alpha_x]+self.C)\n",
    "            \n",
    "            eta = self.kernel_value[cur_alpha_x][cur_alpha_x]+\\\n",
    "            self.kernel_value[cur_alpha_y][cur_alpha_y]-\\\n",
    "            2*self.kernel_value[cur_alpha_x][cur_alpha_y]\n",
    "            \n",
    "            next_alpha_y_unc = self.alpha[cur_alpha_y] + \\\n",
    "            self.train_y[cur_alpha_y]*(E[cur_alpha_x]- E[cur_alpha_y])/ eta\n",
    "            \n",
    "            next_alpha_y = 0\n",
    "            if next_alpha_y_unc > H:\n",
    "                next_alpha_y = H\n",
    "            elif next_alpha_y_unc >= L:\n",
    "                next_alpha_y = next_alpha_y_unc\n",
    "            else:\n",
    "                next_alpha_y = L\n",
    "            \n",
    "            next_alpha_x = self.alpha[cur_alpha_x] + \\\n",
    "            self.train_y[cur_alpha_x]*self.train_y[cur_alpha_y]*\\\n",
    "            (self.alpha[cur_alpha_y] - next_alpha_y)\n",
    "            \n",
    "            # 更新b的值\n",
    "            b_new_1 = -E[cur_alpha_x] - self.train_y[cur_alpha_x]*\\\n",
    "            self.kernel_value[cur_alpha_x][cur_alpha_x]*\\\n",
    "            (next_alpha_x - self.alpha[cur_alpha_x]) - \\\n",
    "            self.train_y[cur_alpha_y]*\\\n",
    "            self.kernel_value[cur_alpha_y][cur_alpha_x]*\\\n",
    "            (next_alpha_y - self.alpha[cur_alpha_y]) + self.b\n",
    "\n",
    "            b_new_2 = -E[cur_alpha_y] - self.train_y[cur_alpha_x]*\\\n",
    "            self.kernel_value[cur_alpha_x][cur_alpha_y]*\\\n",
    "            (next_alpha_x - self.alpha[cur_alpha_x]) - \\\n",
    "            self.train_y[cur_alpha_y]*\\\n",
    "            self.kernel_value[cur_alpha_y][cur_alpha_y]*\\\n",
    "            (next_alpha_y - self.alpha[cur_alpha_y]) + self.b\n",
    "            \n",
    "            self.b = (b_new_1 + b_new_2) / 2\n",
    "            \n",
    "            # 更新alpha_x,alpha_y,E_alpha_x,E_alpha_y\n",
    "            self.alpha[cur_alpha_x] = next_alpha_x\n",
    "            self.alpha[cur_alpha_y] = next_alpha_y\n",
    "            pre_y[cur_alpha_x] = self.__predict(index = cur_alpha_x)\n",
    "            pre_y[cur_alpha_y] = self.__predict(index = cur_alpha_y)\n",
    "            E[cur_alpha_x] = pre_y[cur_alpha_x] - self.train_y[cur_alpha_x]\n",
    "            E[cur_alpha_y] = pre_y[cur_alpha_y] - self.train_y[cur_alpha_y]\n",
    "        # 利用alpha更新w\n",
    "        self.W = np.dot(self.train_x.T, (self.alpha * self.train_y\n",
    "                                        ).reshape(-1, 1)).squeeze()\n",
    "        # 记录支持向量\n",
    "        for i in range(self.m):\n",
    "            if self.alpha[i] > 0:\n",
    "                self.support_vectors.append(i)\n",
    "    def output(self, x):\n",
    "        return np.dot(x, self.W.reshape(-1, 1)).squeeze()+self.b\n",
    "    def predict(self, x):\n",
    "        return np.sign(self.output(x))"
   ]
  },
  {
   "cell_type": "markdown",
   "metadata": {},
   "source": [
    "### 简单数据集上的测试"
   ]
  },
  {
   "cell_type": "code",
   "execution_count": 117,
   "metadata": {},
   "outputs": [],
   "source": [
    "train_x = np.array([[0,0],[0,1],[1,0],[0.5, 0.6],[0.8,1],[1,1]])\n",
    "train_y = np.array([-1, -1, -1, 1, 1, 1])\n",
    "test_x = np.array([[0.4, 0.3],[-1, 0.5],[1, 2], [0.6, 0.7]])\n",
    "test_y = np.array([-1, -1, 1, 1])"
   ]
  },
  {
   "cell_type": "code",
   "execution_count": 118,
   "metadata": {},
   "outputs": [],
   "source": [
    "svm = SVM(kernel='linear', C=2.0, epsilon=0.001, sigma=10)"
   ]
  },
  {
   "cell_type": "code",
   "execution_count": 119,
   "metadata": {},
   "outputs": [
    {
     "name": "stdout",
     "output_type": "stream",
     "text": [
      "[-1. -1.  1.  1.]\n",
      "[-1.  1.  1.  1.  1.  1.]\n"
     ]
    }
   ],
   "source": [
    "svm.fit(train_x, train_y)\n",
    "print svm.predict(test_x)\n",
    "print svm.predict(train_x)"
   ]
  },
  {
   "cell_type": "code",
   "execution_count": 120,
   "metadata": {},
   "outputs": [
    {
     "name": "stdout",
     "output_type": "stream",
     "text": [
      "[ 2.6  3.2] -2.25\n"
     ]
    }
   ],
   "source": [
    "print svm.W, svm.b"
   ]
  },
  {
   "cell_type": "code",
   "execution_count": 121,
   "metadata": {},
   "outputs": [
    {
     "name": "stdout",
     "output_type": "stream",
     "text": [
      "[ 2.  2.  2.  2.  2.  2.]\n"
     ]
    }
   ],
   "source": [
    "print svm.alpha"
   ]
  },
  {
   "cell_type": "code",
   "execution_count": 122,
   "metadata": {},
   "outputs": [
    {
     "name": "stdout",
     "output_type": "stream",
     "text": [
      "[[ 0.    0.    0.    0.    0.    0.  ]\n",
      " [ 0.    1.    0.    0.6   1.    1.  ]\n",
      " [ 0.    0.    1.    0.5   0.8   1.  ]\n",
      " [ 0.    0.6   0.5   0.61  1.    1.1 ]\n",
      " [ 0.    1.    0.8   1.    1.64  1.8 ]\n",
      " [ 0.    1.    1.    1.1   1.8   2.  ]]\n"
     ]
    }
   ],
   "source": [
    "print svm.kernel_value"
   ]
  },
  {
   "cell_type": "code",
   "execution_count": 123,
   "metadata": {},
   "outputs": [
    {
     "name": "stdout",
     "output_type": "stream",
     "text": [
      "[0, 1, 2, 3, 4, 5]\n"
     ]
    }
   ],
   "source": [
    "print svm.support_vectors"
   ]
  },
  {
   "cell_type": "markdown",
   "metadata": {},
   "source": [
    "## 在mnist数据集上测试"
   ]
  },
  {
   "cell_type": "code",
   "execution_count": null,
   "metadata": {},
   "outputs": [],
   "source": []
  },
  {
   "cell_type": "code",
   "execution_count": null,
   "metadata": {},
   "outputs": [],
   "source": []
  }
 ],
 "metadata": {
  "kernelspec": {
   "display_name": "Python 2",
   "language": "python",
   "name": "python2"
  },
  "language_info": {
   "codemirror_mode": {
    "name": "ipython",
    "version": 2
   },
   "file_extension": ".py",
   "mimetype": "text/x-python",
   "name": "python",
   "nbconvert_exporter": "python",
   "pygments_lexer": "ipython2",
   "version": "2.7.15"
  }
 },
 "nbformat": 4,
 "nbformat_minor": 2
}
